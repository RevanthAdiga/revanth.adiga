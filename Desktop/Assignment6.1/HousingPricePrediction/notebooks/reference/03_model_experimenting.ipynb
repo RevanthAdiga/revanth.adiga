{
 "cells": [
  {
   "cell_type": "markdown",
   "metadata": {},
   "source": [
    "# Purpose"
   ]
  },
  {
   "cell_type": "markdown",
   "metadata": {},
   "source": [
    "This notebook demonstrates the model experimentation and finalization. It covers EDA, outlier treatment, transformation, training, model evaluation and comparison across models."
   ]
  },
  {
   "cell_type": "markdown",
   "metadata": {},
   "source": [
    "## Imports"
   ]
  },
  {
   "cell_type": "code",
   "execution_count": 1,
   "metadata": {},
   "outputs": [],
   "source": [
    "import os\n",
    "import os.path as op\n",
    "import shutil\n",
    "\n",
    "# standard third party imports\n",
    "import numpy as np\n",
    "import pandas as pd\n",
    "from matplotlib import pyplot as plt\n",
    "from sklearn.pipeline import Pipeline\n",
    "from sklearn.feature_selection import SelectFromModel\n",
    "from sklearn.model_selection import GridSearchCV\n",
    "from sklearn.preprocessing import FunctionTransformer\n",
    "from sklearn.compose import ColumnTransformer\n",
    "\n",
    "# impute missing values\n",
    "from sklearn.experimental import enable_iterative_imputer  # noqa\n",
    "from sklearn.impute import KNNImputer, IterativeImputer, SimpleImputer\n",
    "from sklearn.tree import DecisionTreeRegressor\n",
    "from category_encoders import TargetEncoder\n"
   ]
  },
  {
   "cell_type": "code",
   "execution_count": 5,
   "metadata": {},
   "outputs": [
    {
     "name": "stdout",
     "output_type": "stream",
     "text": [
      "The autoreload extension is already loaded. To reload it, use:\n",
      "  %reload_ext autoreload\n",
      "Requirement already satisfied: matplotlib in c:\\users\\revanth.adiga\\anaconda3\\envs\\env-customer-x-dev\\lib\\site-packages (3.4.2)\n",
      "Requirement already satisfied: python-dateutil>=2.7 in c:\\users\\revanth.adiga\\anaconda3\\envs\\env-customer-x-dev\\lib\\site-packages (from matplotlib) (2.8.2)\n",
      "Requirement already satisfied: cycler>=0.10 in c:\\users\\revanth.adiga\\anaconda3\\envs\\env-customer-x-dev\\lib\\site-packages (from matplotlib) (0.10.0)\n",
      "Requirement already satisfied: numpy>=1.16 in c:\\users\\revanth.adiga\\anaconda3\\envs\\env-customer-x-dev\\lib\\site-packages (from matplotlib) (1.19.1)\n",
      "Requirement already satisfied: pillow>=6.2.0 in c:\\users\\revanth.adiga\\anaconda3\\envs\\env-customer-x-dev\\lib\\site-packages (from matplotlib) (8.3.1)\n",
      "Requirement already satisfied: kiwisolver>=1.0.1 in c:\\users\\revanth.adiga\\anaconda3\\envs\\env-customer-x-dev\\lib\\site-packages (from matplotlib) (1.3.1)\n",
      "Requirement already satisfied: pyparsing>=2.2.1 in c:\\users\\revanth.adiga\\anaconda3\\envs\\env-customer-x-dev\\lib\\site-packages (from matplotlib) (2.4.7)\n",
      "Requirement already satisfied: six in c:\\users\\revanth.adiga\\anaconda3\\envs\\env-customer-x-dev\\lib\\site-packages (from cycler>=0.10->matplotlib) (1.16.0)\n"
     ]
    }
   ],
   "source": [
    "%load_ext autoreload\n",
    "%autoreload 2\n",
    "!pip install matplotlib"
   ]
  },
  {
   "cell_type": "code",
   "execution_count": 6,
   "metadata": {},
   "outputs": [],
   "source": [
    "# standard code-template imports\n",
    "from ta_lib.core.api import (\n",
    "    create_context, get_dataframe, get_feature_names_from_column_transformer, string_cleaning,\n",
    "    get_package_path, display_as_tabs, save_pipeline, load_pipeline, initialize_environment,\n",
    "    load_dataset, save_dataset, DEFAULT_ARTIFACTS_PATH\n",
    ")\n",
    "\n",
    "import ta_lib.eda.api as eda\n",
    "from xgboost import XGBRegressor\n",
    "from ta_lib.regression.api import SKLStatsmodelOLS\n",
    "from ta_lib.regression.api import RegressionComparison, RegressionReport\n",
    "import ta_lib.reports.api as reports\n",
    "from ta_lib.data_processing.api import Outlier\n",
    "\n",
    "initialize_environment(debug=False, hide_warnings=True)"
   ]
  },
  {
   "cell_type": "markdown",
   "metadata": {},
   "source": [
    "# Initialization"
   ]
  },
  {
   "cell_type": "code",
   "execution_count": 7,
   "metadata": {},
   "outputs": [],
   "source": [
    "artifacts_folder = DEFAULT_ARTIFACTS_PATH"
   ]
  },
  {
   "cell_type": "code",
   "execution_count": 8,
   "metadata": {},
   "outputs": [],
   "source": [
    "config_path = op.join('conf', 'config.yml')\n",
    "context = create_context(config_path)"
   ]
  },
  {
   "cell_type": "markdown",
   "metadata": {},
   "source": [
    "# 3 Feature Engineering\n",
    "\n",
    "The focus here is the `Pipeline` and not the model. Though the model would inform the pipeline that is needed to train the model, our focus is to set it up in such a way that it can be saved/loaded, tweaked for different model choices and so on."
   ]
  },
  {
   "cell_type": "markdown",
   "metadata": {},
   "source": [
    "## 3.1 Read the Train and Test Data"
   ]
  },
  {
   "cell_type": "code",
   "execution_count": 9,
   "metadata": {},
   "outputs": [
    {
     "name": "stdout",
     "output_type": "stream",
     "text": [
      "(139847, 32) (139847, 1)\n",
      "(34962, 32) (34962, 1)\n"
     ]
    }
   ],
   "source": [
    "train_X = load_dataset(context, 'train/sales/features')\n",
    "train_y = load_dataset(context, 'train/sales/target')\n",
    "print(train_X.shape, train_y.shape)\n",
    "\n",
    "test_X = load_dataset(context, 'test/sales/features')\n",
    "test_y = load_dataset(context, 'test/sales/target')\n",
    "print(test_X.shape, test_y.shape)"
   ]
  },
  {
   "cell_type": "markdown",
   "metadata": {},
   "source": [
    "## 3.2 Feature Engineering Pipelines\n"
   ]
  },
  {
   "cell_type": "markdown",
   "metadata": {},
   "source": [
    "**Dev NOTES**\n",
    "\n",
    "For Feature Engineering and Model Building sklearn.pipeline.Pipeline are leveraged because of the following advantages\n",
    "<details>\n",
    "    \n",
    "1. It helps in automating workflows and are easier to read and comprehend.\n",
    "2. Right Sequence can be ensured and (for example always encodes before imputing)\n",
    "3. Reproducibility is very convenient with pipelines\n",
    "4. Pipelines help you prevent data leakage in your test data\n",
    "5. Code is near implementation ready"
   ]
  },
  {
   "cell_type": "markdown",
   "metadata": {},
   "source": [
    "#### General Steps in the Feature Transformation are as follows\n",
    " - Outlier Treatment\n",
    " - Encoding of Categorical Columns\n",
    " - Missing Values Imputation"
   ]
  },
  {
   "cell_type": "code",
   "execution_count": 10,
   "metadata": {},
   "outputs": [],
   "source": [
    "# collecting different types of columns for transformations\n",
    "cat_columns = train_X.select_dtypes('object').columns\n",
    "num_columns = train_X.select_dtypes('number').columns"
   ]
  },
  {
   "cell_type": "markdown",
   "metadata": {},
   "source": [
    "#### Outlier Handling\n",
    "- A Custom Transformer is used to handle outliers. It is not included as part of the pipeline as outliers handling are optional for test data\n",
    "- An option to either drop or cap the outliers can be passed during the transform call\n",
    "- If we want to treat outliers for some columns them we can pass cols argument to the Transformer\n",
    "- This will go into production code"
   ]
  },
  {
   "cell_type": "code",
   "execution_count": 11,
   "metadata": {},
   "outputs": [
    {
     "name": "stdout",
     "output_type": "stream",
     "text": [
      "(139847, 32)\n",
      "(139847, 32)\n"
     ]
    }
   ],
   "source": [
    "outlier_transformer = Outlier(method='mean')\n",
    "print(train_X.shape)\n",
    "train_X = outlier_transformer.fit_transform(train_X)\n",
    "print(train_X.shape)"
   ]
  },
  {
   "cell_type": "markdown",
   "metadata": {},
   "source": [
    "#### Encoding\n"
   ]
  },
  {
   "cell_type": "markdown",
   "metadata": {},
   "source": [
    "Some sample pipelines showcasing how to create column specific pipelines and integrating them overall is presented below\n",
    "\n",
    "- Commonly target encoding is done for categorical variables with too many levels.\n",
    "- We also group sparse levels. For fewer levels one hot encoding/label encoding is preferred.\n",
    "- If there is one dominant level, we can use binary encoding.\n",
    "- This will go into production code"
   ]
  },
  {
   "cell_type": "code",
   "execution_count": 12,
   "metadata": {},
   "outputs": [],
   "source": [
    "tgt_enc_simple_impt = Pipeline([\n",
    "    ('target_encoding', TargetEncoder(return_df=False)),\n",
    "    ('simple_impute', SimpleImputer(strategy='most_frequent')),\n",
    "])\n",
    "\n",
    "\n",
    "# NOTE: the list of transformations here are not sequential but weighted \n",
    "# (if multiple transforms are specified for a particular column)\n",
    "# for sequential transforms use a pipeline as shown above.\n",
    "features_transformer = ColumnTransformer([\n",
    "    \n",
    "    ## categorical columns\n",
    "    ('tgt_enc', TargetEncoder(return_df=False),\n",
    "     list(set(cat_columns) - set(['technology', 'functional_status', 'platforms']))),\n",
    "    \n",
    "    # NOTE: if the same column gets repeated, then they are weighed in the final output\n",
    "    # If we want a sequence of operations, then we use a pipeline but that doesen't YET support\n",
    "    # get_feature_names. \n",
    "    ('tgt_enc_sim_impt', tgt_enc_simple_impt, ['technology', 'functional_status', 'platforms']),\n",
    "        \n",
    "    ## numeric columns\n",
    "    ('med_enc', SimpleImputer(strategy='median'), num_columns),\n",
    "    \n",
    "])\n"
   ]
  },
  {
   "cell_type": "markdown",
   "metadata": {},
   "source": [
    "**Dev notes(Encoding):**\n",
    "<details>\n",
    "\n",
    "    Some common practices followed in Categorical Feature Encoding are\n",
    "    * For categorical variables with too many levels, target encoding can be done.\n",
    "    * For fewer levels, one hot encoding can be done.\n",
    "    * If one very dominant level is observed, binary encoding can be used.\n",
    "    \n",
    "    \n",
    "</details>"
   ]
  },
  {
   "cell_type": "markdown",
   "metadata": {},
   "source": [
    "## 3.2 Feature analysis\n",
    "\n",
    "Using the pipeline above analyze the features and decide on additional features to add/remove from the pipeline. This section will not be part of the production code, unless input data drifts etc. are explicitly demanded in the project.\n",
    "\n",
    "Here we are primarily focused on feature selection/elimination based on business rules, prior knowledge, data analysis.\n",
    "\n",
    "**We are not building any models at this point.**\n"
   ]
  },
  {
   "cell_type": "markdown",
   "metadata": {},
   "source": [
    "- we create some sample data to analyze that we assume represent the population\n",
    "- train the features transformer and do the analysis as below"
   ]
  },
  {
   "cell_type": "code",
   "execution_count": 13,
   "metadata": {},
   "outputs": [],
   "source": [
    "sample_X = train_X.sample(frac=0.1, random_state=context.random_seed)\n",
    "sample_y = train_y.loc[sample_X.index]\n",
    "\n",
    "sample_train_X = get_dataframe(\n",
    "    features_transformer.fit_transform(sample_X, sample_y), \n",
    "    get_feature_names_from_column_transformer(features_transformer)\n",
    ")\n",
    "\n",
    "# nothing to do for target\n",
    "sample_train_y = sample_y"
   ]
  },
  {
   "cell_type": "markdown",
   "metadata": {},
   "source": [
    "Running the features transformer on the complete data"
   ]
  },
  {
   "cell_type": "code",
   "execution_count": 14,
   "metadata": {},
   "outputs": [],
   "source": [
    "train_X = get_dataframe(\n",
    "    features_transformer.fit_transform(train_X, train_y), \n",
    "    get_feature_names_from_column_transformer(features_transformer)\n",
    ")"
   ]
  },
  {
   "cell_type": "markdown",
   "metadata": {},
   "source": [
    "### 3.2.1 Univariate\n",
    "\n",
    "\n",
    "- Look at each variable independently. This is useful if your models have assumptions on the distribution and/or bounds on the features/target"
   ]
  },
  {
   "cell_type": "code",
   "execution_count": 15,
   "metadata": {},
   "outputs": [
    {
     "data": {},
     "metadata": {},
     "output_type": "display_data"
    },
    {
     "data": {
      "application/vnd.holoviews_exec.v0+json": "",
      "text/html": [
       "<div id='1001'>\n",
       "\n",
       "\n",
       "\n",
       "\n",
       "\n",
       "  <div class=\"bk-root\" id=\"81aa72c9-c374-4069-964e-39fd28c09160\" data-root-id=\"1001\"></div>\n",
       "</div>\n",
       "<script type=\"application/javascript\">(function(root) {\n",
       "  function embed_document(root) {\n",
       "  var docs_json = {\"c5776b2f-72ce-49a2-b416-74b13d218182\":{\"roots\":{\"references\":[{\"attributes\":{},\"id\":\"1044\",\"type\":\"Selection\"},{\"attributes\":{\"data\":{\"A_25_percent\":{\"__ndarray__\":\"XI/C9ShEYUA=\",\"dtype\":\"float64\",\"order\":\"little\",\"shape\":[1]},\"A_50_percent\":{\"__ndarray__\":\"XI/C9ShEYUA=\",\"dtype\":\"float64\",\"order\":\"little\",\"shape\":[1]},\"A_75_percent\":{\"__ndarray__\":\"XI/C9ShEYUA=\",\"dtype\":\"float64\",\"order\":\"little\",\"shape\":[1]},\"count\":{\"__ndarray__\":\"AAAAADgSAUE=\",\"dtype\":\"float64\",\"order\":\"little\",\"shape\":[1]},\"max\":{\"__ndarray__\":\"XI/C9ShEYUA=\",\"dtype\":\"float64\",\"order\":\"little\",\"shape\":[1]},\"mean\":{\"__ndarray__\":\"uB6F61HoYEA=\",\"dtype\":\"float64\",\"order\":\"little\",\"shape\":[1]},\"min\":{\"__ndarray__\":\"uB6F61E4K0A=\",\"dtype\":\"float64\",\"order\":\"little\",\"shape\":[1]},\"std\":{\"__ndarray__\":\"XI/C9ShcLkA=\",\"dtype\":\"float64\",\"order\":\"little\",\"shape\":[1]}},\"selected\":{\"id\":\"1146\"},\"selection_policy\":{\"id\":\"1202\"}},\"id\":\"1145\",\"type\":\"ColumnDataSource\"},{\"attributes\":{\"end\":135605.63,\"reset_end\":147689.3,\"reset_start\":0.0,\"tags\":[[[\"Frequency\",\"Frequency\",null]]]},\"id\":\"1007\",\"type\":\"Range1d\"},{\"attributes\":{},\"id\":\"1041\",\"type\":\"BasicTickFormatter\"},{\"attributes\":{},\"id\":\"1146\",\"type\":\"Selection\"},{\"attributes\":{},\"id\":\"1348\",\"type\":\"NumberEditor\"},{\"attributes\":{\"end\":149.03894328097863,\"reset_end\":149.03894328097863,\"reset_start\":2.6954075590527395,\"start\":2.6954075590527395,\"tags\":[[[\"x\",\"x\",null]]]},\"id\":\"1006\",\"type\":\"Range1d\"},{\"attributes\":{},\"id\":\"1070\",\"type\":\"UnionRenderers\"},{\"attributes\":{\"columns\":[{\"id\":\"1314\"},{\"id\":\"1319\"},{\"id\":\"1324\"},{\"id\":\"1329\"},{\"id\":\"1334\"},{\"id\":\"1339\"},{\"id\":\"1344\"},{\"id\":\"1349\"}],\"height\":60,\"reorderable\":false,\"source\":{\"id\":\"1145\"},\"view\":{\"id\":\"1188\"}},\"id\":\"1187\",\"type\":\"DataTable\"},{\"attributes\":{\"data_source\":{\"id\":\"1043\"},\"glyph\":{\"id\":\"1046\"},\"hover_glyph\":null,\"muted_glyph\":{\"id\":\"1048\"},\"nonselection_glyph\":{\"id\":\"1047\"},\"selection_glyph\":null,\"view\":{\"id\":\"1050\"}},\"id\":\"1049\",\"type\":\"GlyphRenderer\"},{\"attributes\":{\"source\":{\"id\":\"1145\"}},\"id\":\"1188\",\"type\":\"CDSView\"},{\"attributes\":{},\"id\":\"1019\",\"type\":\"BasicTicker\"},{\"attributes\":{\"data\":{\"left\":{\"__ndarray__\":\"nAqZdl02K0CnJxphENUzQADK5wbyDjpALbZa1mkkQEBah0GpWkFDQIZYKHxLXkZAsykPTzx7SUDf+vUhLZhMQAzM3PQdtU9AnM7hYwdpUUAyN1XNf/dSQMifyDb4hVRAYAg8oHAUVkD2cK8J6aJXQIzZInNhMVlAIkKW3Nm/WkC4qglGUk5cQE4Tfa/K3F1A5nvwGENrX0A+8jHB3XxgQA==\",\"dtype\":\"float64\",\"order\":\"little\",\"shape\":[20]},\"right\":{\"__ndarray__\":\"pycaYRDVM0AAyucG8g46QC22WtZpJEBAWodBqVpBQ0CGWCh8S15GQLMpD088e0lA3/r1IS2YTEAMzNz0HbVPQJzO4WMHaVFAMjdVzX/3UkDIn8g2+IVUQGAIPKBwFFZA9nCvCemiV0CM2SJzYTFZQCJCltzZv1pAuKoJRlJOXEBOE32vytxdQOZ78BhDa19APvIxwd18YECJpuv1GURhQA==\",\"dtype\":\"float64\",\"order\":\"little\",\"shape\":[20]},\"top\":[1282,0,11,0,2,0,2,657,0,0,0,3630,0,0,0,0,0,0,0,134263]},\"selected\":{\"id\":\"1044\"},\"selection_policy\":{\"id\":\"1068\"}},\"id\":\"1043\",\"type\":\"ColumnDataSource\"},{\"attributes\":{\"style\":{\"white-space\":\"nowrap\"},\"text\":\"<span style=\\\"color:black;font-family:Arial;font-style:bold;font-weight:bold;font-size:12pt\\\">col: brand</span>\",\"width\":450},\"id\":\"1208\",\"type\":\"Div\"},{\"attributes\":{\"fill_alpha\":0.2,\"fill_color\":\"#1f77b3\",\"line_alpha\":0.2,\"x\":{\"field\":\"x\"},\"y\":{\"field\":\"y\"}},\"id\":\"1056\",\"type\":\"Patch\"},{\"attributes\":{\"axis_label\":\"brand\",\"bounds\":\"auto\",\"formatter\":{\"id\":\"1039\"},\"major_label_orientation\":\"horizontal\",\"ticker\":{\"id\":\"1019\"}},\"id\":\"1018\",\"type\":\"LinearAxis\"},{\"attributes\":{\"children\":[[{\"id\":\"1009\"},0,0],[{\"id\":\"1187\"},1,0]]},\"id\":\"1204\",\"type\":\"GridBox\"},{\"attributes\":{\"format\":\"0,0.0[00000]\"},\"id\":\"1327\",\"type\":\"NumberFormatter\"},{\"attributes\":{},\"id\":\"1202\",\"type\":\"UnionRenderers\"},{\"attributes\":{},\"id\":\"1313\",\"type\":\"NumberEditor\"},{\"attributes\":{\"format\":\"0,0.0[00000]\"},\"id\":\"1347\",\"type\":\"NumberFormatter\"},{\"attributes\":{\"editor\":{\"id\":\"1318\"},\"field\":\"mean\",\"formatter\":{\"id\":\"1317\"},\"title\":\"mean\"},\"id\":\"1319\",\"type\":\"TableColumn\"},{\"attributes\":{},\"id\":\"1318\",\"type\":\"NumberEditor\"},{\"attributes\":{\"source\":{\"id\":\"1051\"}},\"id\":\"1058\",\"type\":\"CDSView\"},{\"attributes\":{},\"id\":\"1323\",\"type\":\"NumberEditor\"},{\"attributes\":{\"align\":null,\"below\":[{\"id\":\"1018\"}],\"center\":[{\"id\":\"1021\"},{\"id\":\"1025\"}],\"extra_y_ranges\":{\"twiny\":{\"id\":\"1059\"}},\"left\":[{\"id\":\"1022\"}],\"margin\":null,\"min_border_bottom\":10,\"min_border_left\":10,\"min_border_right\":10,\"min_border_top\":10,\"plot_height\":300,\"renderers\":[{\"id\":\"1049\"},{\"id\":\"1057\"}],\"right\":[{\"id\":\"1060\"}],\"sizing_mode\":\"fixed\",\"title\":{\"id\":\"1010\"},\"toolbar\":{\"id\":\"1032\"},\"toolbar_location\":null,\"x_range\":{\"id\":\"1006\"},\"x_scale\":{\"id\":\"1014\"},\"y_range\":{\"id\":\"1007\"},\"y_scale\":{\"id\":\"1016\"}},\"id\":\"1009\",\"subtype\":\"Figure\",\"type\":\"Plot\"},{\"attributes\":{\"children\":[{\"id\":\"1206\"},{\"id\":\"1204\"}]},\"id\":\"1207\",\"type\":\"Column\"},{\"attributes\":{\"editor\":{\"id\":\"1313\"},\"field\":\"count\",\"formatter\":{\"id\":\"1312\"},\"title\":\"count\"},\"id\":\"1314\",\"type\":\"TableColumn\"},{\"attributes\":{\"axis\":{\"id\":\"1018\"},\"grid_line_color\":null,\"ticker\":null},\"id\":\"1021\",\"type\":\"Grid\"},{\"attributes\":{},\"id\":\"1023\",\"type\":\"BasicTicker\"},{\"attributes\":{\"editor\":{\"id\":\"1323\"},\"field\":\"std\",\"formatter\":{\"id\":\"1322\"},\"title\":\"std\"},\"id\":\"1324\",\"type\":\"TableColumn\"},{\"attributes\":{\"bottom\":{\"value\":0},\"fill_alpha\":{\"value\":0.2},\"fill_color\":{\"value\":\"#00fff0\"},\"left\":{\"field\":\"left\"},\"line_alpha\":{\"value\":0.2},\"right\":{\"field\":\"right\"},\"top\":{\"field\":\"top\"}},\"id\":\"1048\",\"type\":\"Quad\"},{\"attributes\":{\"callback\":null,\"renderers\":[{\"id\":\"1057\"}],\"tags\":[\"hv_created\"],\"tooltips\":[[\"brand\",\"@{brand}\"],[\"Density\",\"@{brand_density}\"]]},\"id\":\"1008\",\"type\":\"HoverTool\"},{\"attributes\":{\"margin\":[5,5,5,5],\"name\":\"HSpacer01473\",\"sizing_mode\":\"stretch_width\"},\"id\":\"1005\",\"type\":\"Spacer\"},{\"attributes\":{\"data_source\":{\"id\":\"1051\"},\"glyph\":{\"id\":\"1054\"},\"hover_glyph\":null,\"muted_glyph\":{\"id\":\"1056\"},\"nonselection_glyph\":{\"id\":\"1055\"},\"selection_glyph\":null,\"view\":{\"id\":\"1058\"},\"y_range_name\":\"twiny\"},\"id\":\"1057\",\"type\":\"GlyphRenderer\"},{\"attributes\":{\"overlay\":{\"id\":\"1031\"}},\"id\":\"1029\",\"type\":\"BoxZoomTool\"},{\"attributes\":{\"active_drag\":\"auto\",\"active_inspect\":\"auto\",\"active_multi\":null,\"active_scroll\":\"auto\",\"active_tap\":\"auto\",\"tools\":[{\"id\":\"1008\"},{\"id\":\"1026\"},{\"id\":\"1027\"},{\"id\":\"1028\"},{\"id\":\"1029\"},{\"id\":\"1030\"}]},\"id\":\"1032\",\"type\":\"Toolbar\"},{\"attributes\":{\"bottom\":{\"value\":0},\"fill_color\":{\"value\":\"#00fff0\"},\"left\":{\"field\":\"left\"},\"right\":{\"field\":\"right\"},\"top\":{\"field\":\"top\"}},\"id\":\"1046\",\"type\":\"Quad\"},{\"attributes\":{\"bottom\":{\"value\":0},\"fill_alpha\":{\"value\":0.1},\"fill_color\":{\"value\":\"#00fff0\"},\"left\":{\"field\":\"left\"},\"line_alpha\":{\"value\":0.1},\"right\":{\"field\":\"right\"},\"top\":{\"field\":\"top\"}},\"id\":\"1047\",\"type\":\"Quad\"},{\"attributes\":{\"margin\":[5,5,5,5],\"name\":\"HSpacer01469\",\"sizing_mode\":\"stretch_width\"},\"id\":\"1382\",\"type\":\"Spacer\"},{\"attributes\":{\"children\":[{\"id\":\"1002\"},{\"id\":\"1003\"},{\"id\":\"1386\"}],\"margin\":[0,0,0,0],\"name\":\"Row01463\"},\"id\":\"1001\",\"type\":\"Row\"},{\"attributes\":{\"format\":\"0,0.0[00000]\"},\"id\":\"1322\",\"type\":\"NumberFormatter\"},{\"attributes\":{\"editor\":{\"id\":\"1328\"},\"field\":\"min\",\"formatter\":{\"id\":\"1327\"},\"title\":\"min\"},\"id\":\"1329\",\"type\":\"TableColumn\"},{\"attributes\":{\"format\":\"0,0.0[00000]\"},\"id\":\"1342\",\"type\":\"NumberFormatter\"},{\"attributes\":{\"source\":{\"id\":\"1043\"}},\"id\":\"1050\",\"type\":\"CDSView\"},{\"attributes\":{},\"id\":\"1065\",\"type\":\"BasicTicker\"},{\"attributes\":{},\"id\":\"1016\",\"type\":\"LinearScale\"},{\"attributes\":{\"format\":\"0,0.0[00000]\"},\"id\":\"1312\",\"type\":\"NumberFormatter\"},{\"attributes\":{\"margin\":[5,5,5,5],\"name\":\"HSpacer01474\",\"sizing_mode\":\"stretch_width\"},\"id\":\"1380\",\"type\":\"Spacer\"},{\"attributes\":{\"bottom_units\":\"screen\",\"fill_alpha\":0.5,\"fill_color\":\"lightgrey\",\"left_units\":\"screen\",\"level\":\"overlay\",\"line_alpha\":1.0,\"line_color\":\"black\",\"line_dash\":[4,4],\"line_width\":2,\"right_units\":\"screen\",\"top_units\":\"screen\"},\"id\":\"1031\",\"type\":\"BoxAnnotation\"},{\"attributes\":{},\"id\":\"1039\",\"type\":\"BasicTickFormatter\"},{\"attributes\":{\"margin\":[20,20,20,20],\"min_width\":250,\"options\":[\"brand\",\"condition\"],\"title\":\"col\",\"value\":\"brand\",\"width\":250},\"id\":\"1384\",\"type\":\"Select\"},{\"attributes\":{\"format\":\"0,0.0[00000]\"},\"id\":\"1317\",\"type\":\"NumberFormatter\"},{\"attributes\":{},\"id\":\"1328\",\"type\":\"NumberEditor\"},{\"attributes\":{\"format\":\"0,0.0[00000]\"},\"id\":\"1332\",\"type\":\"NumberFormatter\"},{\"attributes\":{\"fill_alpha\":0.5,\"fill_color\":\"#1f77b3\",\"x\":{\"field\":\"x\"},\"y\":{\"field\":\"y\"}},\"id\":\"1054\",\"type\":\"Patch\"},{\"attributes\":{\"children\":[{\"id\":\"1384\"}],\"css_classes\":[\"panel-widget-box\"],\"margin\":[5,5,5,5],\"name\":\"WidgetBox01464\"},\"id\":\"1383\",\"type\":\"Column\"},{\"attributes\":{},\"id\":\"1030\",\"type\":\"ResetTool\"},{\"attributes\":{\"fill_alpha\":0.5,\"fill_color\":\"#1f77b3\",\"line_alpha\":1,\"x\":{\"field\":\"x\"},\"y\":{\"field\":\"y\"}},\"id\":\"1055\",\"type\":\"Patch\"},{\"attributes\":{\"editor\":{\"id\":\"1333\"},\"field\":\"A_25_percent\",\"formatter\":{\"id\":\"1332\"},\"title\":\"25%\"},\"id\":\"1334\",\"type\":\"TableColumn\"},{\"attributes\":{},\"id\":\"1338\",\"type\":\"NumberEditor\"},{\"attributes\":{\"editor\":{\"id\":\"1338\"},\"field\":\"A_50_percent\",\"formatter\":{\"id\":\"1337\"},\"title\":\"50%\"},\"id\":\"1339\",\"type\":\"TableColumn\"},{\"attributes\":{},\"id\":\"1068\",\"type\":\"UnionRenderers\"},{\"attributes\":{},\"id\":\"1052\",\"type\":\"Selection\"},{\"attributes\":{\"margin\":[5,5,5,5],\"name\":\"HSpacer01470\",\"sizing_mode\":\"stretch_width\"},\"id\":\"1385\",\"type\":\"Spacer\"},{\"attributes\":{\"children\":[{\"id\":\"1004\"},{\"id\":\"1381\"}],\"margin\":[0,0,0,0],\"name\":\"Column01476\"},\"id\":\"1003\",\"type\":\"Column\"},{\"attributes\":{\"toolbars\":[{\"id\":\"1032\"}],\"tools\":[{\"id\":\"1008\"},{\"id\":\"1026\"},{\"id\":\"1027\"},{\"id\":\"1028\"},{\"id\":\"1029\"},{\"id\":\"1030\"}]},\"id\":\"1205\",\"type\":\"ProxyToolbar\"},{\"attributes\":{\"data\":{\"x\":{\"__ndarray__\":\"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\",\"dtype\":\"float64\",\"order\":\"little\",\"shape\":[200]},\"y\":{\"__ndarray__\":\"AAAAAAAAAAAAAAAAAAAAAAAAAAAAAAAAAAAAAAAAAAAAAAAAAAAAAAAAAAAAAAAAAAAAAAAAAAAAAAAAAAAAAAAAAAAAAAAAAAAAAAAAAAAAAAAAAAAAAAAAAAAAAAAAAAAAAAAAAAAAAAAAAAAAAAAAAAAAAAAAAAAAAAAAAAAAAAAAAAAAAAAAAAAAAAAAAAAAAAAAAAAAAAAAAAAAAAAAAAAAAAAAAAAAAAAAAAAAAAAAAAAAAAAAAAAAAAAAAAAAAAAAAAAAAAAAAAAAAAAAAAAAAAAAAAAAAAAAAAAAAAAAAAAAAAAAAAAAAAAAAAAAAAAAAAAAAAAAAAAAAAAAAAAAAAAAAAAAAAAAAAAAAAAAAAAAAAAAAAAAAAAAAAAAAAAAAAAAAAAAAAAAAAAAAAAAAAAAAAAAAAAAAAAAAAAAAAAAAAAAAAAAAAAAAAAAAAAAAAAAAAAAAAAAAAAAAAAAAAAAAAAAAAAAAAAAAAAAAAAAAAAAAAAAAAAAAAAAAAAAAAAAAAAAAAAAAAAAAAAAAAAAAAAAAAAAAAAAAAAAAAAAAAAAAAAAAAAAAAAAAAAAAAAAAAAAAAAAAAAAAAAAAAAAAAAAAAAAAAAAAAAAAAAAAAAAAAAAAAAAAAAAAAAAAAAAAAAAAAAAAAAAAAAAAAAAAAAAAAAAAAAAAAAAAAAAAAAAAAAAAAAAAAAAAAAAAAAAAAAAAAAAAAAAAAAAAAAAAAAAAAAAAAAAAAAAAAAAAAAAAAAAAAAAAAAAAAAAAAAAAAAAAAAAAAAAAAAAAAAAAAAAAAAAAAAAAAAAAAAAAAAAAAAAAAAAAAAAAAAAAAAAAAAAAAAAAAAAAAAAAAAAAAAAAAAAAAAAAAAAAAAAAAAAAAAAAAAAAAAAAAAAAAAAAAAAAAAAAAAAAAAAAAAAAAAAAAAAAAAAAAAAAAAAAAAAAAAAAAAAAAAAAAAAAAAAAAAAAAAAAAAAAAAAAAAAAAAAAAAAAAAAAAAAAAAAAAAAAAAAAAAAAAAAAAAAAAAAAAAAAAAAAAAAAAAAAAAAAAAAAAAAAADqbUY9v4xoP5reIvuoxqA/hko5aFO3wj/sBx+UkgvRP2Cfd+p8WMk/WLejX5LHrj/QMxGsK5x+P8lgo8UmZDk/GHA0/Xmj4z4BfvDlXDiFPvyMLnKjuiQ+A9DPx0aFtz0dtGGorl43PTYdbiojKaM8fY2OW0qw+TtAK1hy6B48O55sdcogIWk6U2qQhtVUgjnYEbP6/tSFODiKNtWZOXU32j0qUC7YUDaEvXE9KtMVNbR81yxfFcczBCvo8hHuYzJbiU1i4yucMQnnkhDaiBEzarE1nbbTcTRCMqdJEpe9NUPuex3tC/Q2YqxgzjgsFji+sWY8/wQkOfq7PRehgh06+f3PlEDBATtD21M8qHDROwlYa+3X94s8Tc404nNOMj36j8pyEZDDPfwq62KxEEE+epiqTtRNqD4w5p6mW0H8PhsZUTmh0Do/ULTU4QPGZD8Mf/hrKUZ6P6z6iWB9IHs/Ntnf+93cZj8QHFuqdHU/P3wt05bxqgE/bmveuRszsD7kJZaIC0BIPkQaCWQeos09BWoHOUePPT2YnV3n5xGYPH9bYhzKDOA761sxPw6FHTysWSgGNIXLPALsQRmX8WQ93Wg9XZsF6j3a/Ymcd2RaPvIs74Hp2bU+5m/hsU6J/T7j9zeIm0swP6rqJ5TvWk0/rOOGr4KVVT8TO+Lj6+hJP0AaidzJYyk/0hkjCs1h9D4sI8luokq4PrJtOX0WdMU+8rNraU7b0D7G1t52Rb3FPlxaM8wch6c+66/VkRE5lz68abu82lS6PhnTe7GOyc4+jwVEb7hxzT6fDJDcxvy2Pl68zuLCTI0+KYK9+IJ/Tj71+7viuxsSPmjMcnB0ZWE+U+O+oSE6pT7xwew2cCXVPnJ8Rdg3MvE+BNuyCpvU9j7HLwcbPL7oPjGzn9nf48U+EC5k5Raejz77Tl9Na65CPqjZIxZ+ZzA+02wmazDLkz4MB+RtDeLkPmIdaprjjiI/SD5rbl+wSz+OMm/CEkthP9v0uVySMmI/fuJ4LRBJUT9/gjgOsf00P17MmC1JNRk/8NLGDZIY9D7btEevfuq8Pg==\",\"dtype\":\"float64\",\"order\":\"little\",\"shape\":[200]}},\"selected\":{\"id\":\"1052\"},\"selection_policy\":{\"id\":\"1070\"}},\"id\":\"1051\",\"type\":\"ColumnDataSource\"},{\"attributes\":{},\"id\":\"1333\",\"type\":\"NumberEditor\"},{\"attributes\":{\"format\":\"0,0.0[00000]\"},\"id\":\"1337\",\"type\":\"NumberFormatter\"},{\"attributes\":{\"editor\":{\"id\":\"1348\"},\"field\":\"max\",\"formatter\":{\"id\":\"1347\"},\"title\":\"max\"},\"id\":\"1349\",\"type\":\"TableColumn\"},{\"attributes\":{},\"id\":\"1064\",\"type\":\"BasicTickFormatter\"},{\"attributes\":{},\"id\":\"1014\",\"type\":\"LinearScale\"},{\"attributes\":{\"client_comm_id\":\"1055976ecafc469f81706aa45a5acd94\",\"comm_id\":\"de31fceb0b8c4f22a6712ff8190ee827\",\"plot_id\":\"1001\"},\"id\":\"1429\",\"type\":\"panel.models.comm_manager.CommManager\"},{\"attributes\":{\"children\":[{\"id\":\"1382\"},{\"id\":\"1383\"},{\"id\":\"1385\"}],\"margin\":[0,0,0,0],\"name\":\"Row01471\"},\"id\":\"1381\",\"type\":\"Row\"},{\"attributes\":{\"text\":\"Density Plot for brand\",\"text_color\":{\"value\":\"black\"},\"text_font_size\":{\"value\":\"12pt\"}},\"id\":\"1010\",\"type\":\"Title\"},{\"attributes\":{\"axis_label\":\"Frequency\",\"bounds\":\"auto\",\"formatter\":{\"id\":\"1041\"},\"major_label_orientation\":\"horizontal\",\"ticker\":{\"id\":\"1023\"}},\"id\":\"1022\",\"type\":\"LinearAxis\"},{\"attributes\":{\"margin\":[5,5,5,5],\"name\":\"HSpacer01477\",\"sizing_mode\":\"stretch_width\"},\"id\":\"1386\",\"type\":\"Spacer\"},{\"attributes\":{\"children\":[{\"id\":\"1005\"},{\"id\":\"1209\"},{\"id\":\"1380\"}],\"margin\":[0,0,0,0],\"name\":\"Row01475\"},\"id\":\"1004\",\"type\":\"Row\"},{\"attributes\":{\"editor\":{\"id\":\"1343\"},\"field\":\"A_75_percent\",\"formatter\":{\"id\":\"1342\"},\"title\":\"75%\"},\"id\":\"1344\",\"type\":\"TableColumn\"},{\"attributes\":{\"margin\":[5,5,5,5],\"name\":\"HSpacer01472\",\"sizing_mode\":\"stretch_width\"},\"id\":\"1002\",\"type\":\"Spacer\"},{\"attributes\":{},\"id\":\"1026\",\"type\":\"SaveTool\"},{\"attributes\":{\"children\":[{\"id\":\"1208\"},{\"id\":\"1207\"}]},\"id\":\"1209\",\"type\":\"Column\"},{\"attributes\":{},\"id\":\"1027\",\"type\":\"PanTool\"},{\"attributes\":{\"axis_label\":\"y, brand_density\",\"formatter\":{\"id\":\"1064\"},\"ticker\":{\"id\":\"1065\"},\"y_range_name\":\"twiny\"},\"id\":\"1060\",\"type\":\"LinearAxis\"},{\"attributes\":{\"toolbar\":{\"id\":\"1205\"},\"toolbar_location\":\"above\"},\"id\":\"1206\",\"type\":\"ToolbarBox\"},{\"attributes\":{},\"id\":\"1028\",\"type\":\"WheelZoomTool\"},{\"attributes\":{},\"id\":\"1343\",\"type\":\"NumberEditor\"},{\"attributes\":{\"axis\":{\"id\":\"1022\"},\"dimension\":1,\"grid_line_color\":null,\"ticker\":null},\"id\":\"1025\",\"type\":\"Grid\"},{\"attributes\":{\"end\":0.2689946471177291},\"id\":\"1059\",\"type\":\"Range1d\"}],\"root_ids\":[\"1001\",\"1429\"]},\"title\":\"Bokeh Application\",\"version\":\"2.2.3\"}};\n",
       "  var render_items = [{\"docid\":\"c5776b2f-72ce-49a2-b416-74b13d218182\",\"root_ids\":[\"1001\"],\"roots\":{\"1001\":\"81aa72c9-c374-4069-964e-39fd28c09160\"}}];\n",
       "  root.Bokeh.embed.embed_items_notebook(docs_json, render_items);\n",
       "  }\n",
       "if (root.Bokeh !== undefined) {\n",
       "    embed_document(root);\n",
       "  } else {\n",
       "    var attempts = 0;\n",
       "    var timer = setInterval(function(root) {\n",
       "      if (root.Bokeh !== undefined) {\n",
       "        clearInterval(timer);\n",
       "        embed_document(root);\n",
       "      } else if (document.readyState == \"complete\") {\n",
       "        attempts++;\n",
       "        if (attempts > 100) {\n",
       "          clearInterval(timer);\n",
       "          console.log(\"Bokeh: ERROR: Unable to run BokehJS code because BokehJS library is missing\");\n",
       "        }\n",
       "      }\n",
       "    }, 10, root)\n",
       "  }\n",
       "})(window);</script>"
      ],
      "text/plain": [
       ":DynamicMap   [col]\n",
       "   :Layout\n",
       "      .Overlay.I :Overlay\n",
       "         .Histogram.I    :Histogram   [x]   (Frequency)\n",
       "         .Distribution.I :Distribution   [brand]   (Density)\n",
       "      .Table.I   :Table   [count,mean,std,min,25%,50%,75%,max]"
      ]
     },
     "execution_count": 15,
     "metadata": {
      "application/vnd.holoviews_exec.v0+json": {
       "id": "1001"
      }
     },
     "output_type": "execute_result"
    }
   ],
   "source": [
    "out = eda.get_density_plots(train_X, cols=['brand', 'condition'])\n",
    "out"
   ]
  },
  {
   "cell_type": "code",
   "execution_count": 16,
   "metadata": {},
   "outputs": [],
   "source": [
    "# save the plots are html\n",
    "reports.create_report({'univariate': out}, name='feature_analysis_univariate')"
   ]
  },
  {
   "cell_type": "markdown",
   "metadata": {},
   "source": [
    "A report containing the above plot is available [here](https://drive.google.com/file/d/1oqlhJ_GifdEXOT0mOqnGoOIwBt1e5jd2/view?usp=sharing)\n"
   ]
  },
  {
   "cell_type": "markdown",
   "metadata": {},
   "source": [
    "Alternatively, the above plots can be generated as a single html as below. The output from this is available [here](https://drive.google.com/file/d/1mWvPLC2eAEIfNqIYDKpWuAwP6kInkMbw/view?usp=sharing)"
   ]
  },
  {
   "cell_type": "code",
   "execution_count": 17,
   "metadata": {},
   "outputs": [
    {
     "name": "stderr",
     "output_type": "stream",
     "text": [
      "p-value may not be accurate for N > 5000.\n"
     ]
    }
   ],
   "source": [
    "reports.feature_analysis(train_X,'./feature_analysis_report.html')"
   ]
  },
  {
   "cell_type": "markdown",
   "metadata": {},
   "source": [
    "### 3.2.2 Bivariate - mutual interactions"
   ]
  },
  {
   "cell_type": "markdown",
   "metadata": {},
   "source": [
    "- Find columns with high correlations and drop them"
   ]
  },
  {
   "cell_type": "code",
   "execution_count": 18,
   "metadata": {},
   "outputs": [
    {
     "data": {
      "text/html": [
       "<div>\n",
       "<style scoped>\n",
       "    .dataframe tbody tr th:only-of-type {\n",
       "        vertical-align: middle;\n",
       "    }\n",
       "\n",
       "    .dataframe tbody tr th {\n",
       "        vertical-align: top;\n",
       "    }\n",
       "\n",
       "    .dataframe thead th {\n",
       "        text-align: right;\n",
       "    }\n",
       "</style>\n",
       "<table border=\"1\" class=\"dataframe\">\n",
       "  <thead>\n",
       "    <tr style=\"text-align: right;\">\n",
       "      <th></th>\n",
       "      <th>Variable 1</th>\n",
       "      <th>Variable 2</th>\n",
       "      <th>Corr Coef</th>\n",
       "      <th>Abs Corr Coef</th>\n",
       "    </tr>\n",
       "  </thead>\n",
       "  <tbody>\n",
       "    <tr>\n",
       "      <th>0</th>\n",
       "      <td>brand</td>\n",
       "      <td>manufacturer</td>\n",
       "      <td>0.995840</td>\n",
       "      <td>0.995840</td>\n",
       "    </tr>\n",
       "    <tr>\n",
       "      <th>1</th>\n",
       "      <td>selling_cost</td>\n",
       "      <td>selling_price</td>\n",
       "      <td>0.989539</td>\n",
       "      <td>0.989539</td>\n",
       "    </tr>\n",
       "    <tr>\n",
       "      <th>2</th>\n",
       "      <td>inventory_id</td>\n",
       "      <td>sku</td>\n",
       "      <td>0.988895</td>\n",
       "      <td>0.988895</td>\n",
       "    </tr>\n",
       "    <tr>\n",
       "      <th>3</th>\n",
       "      <td>invoice_no</td>\n",
       "      <td>order_no</td>\n",
       "      <td>0.988130</td>\n",
       "      <td>0.988130</td>\n",
       "    </tr>\n",
       "    <tr>\n",
       "      <th>4</th>\n",
       "      <td>ext_model_family</td>\n",
       "      <td>model_family</td>\n",
       "      <td>0.983360</td>\n",
       "      <td>0.983360</td>\n",
       "    </tr>\n",
       "    <tr>\n",
       "      <th>5</th>\n",
       "      <td>channel</td>\n",
       "      <td>source_channel</td>\n",
       "      <td>0.967496</td>\n",
       "      <td>0.967496</td>\n",
       "    </tr>\n",
       "    <tr>\n",
       "      <th>6</th>\n",
       "      <td>condition</td>\n",
       "      <td>ext_grade</td>\n",
       "      <td>0.959041</td>\n",
       "      <td>0.959041</td>\n",
       "    </tr>\n",
       "    <tr>\n",
       "      <th>7</th>\n",
       "      <td>ext_model_family</td>\n",
       "      <td>tgt_enc_sim_impt_platforms</td>\n",
       "      <td>0.949108</td>\n",
       "      <td>0.949108</td>\n",
       "    </tr>\n",
       "    <tr>\n",
       "      <th>8</th>\n",
       "      <td>model_family</td>\n",
       "      <td>tgt_enc_sim_impt_platforms</td>\n",
       "      <td>0.947178</td>\n",
       "      <td>0.947178</td>\n",
       "    </tr>\n",
       "    <tr>\n",
       "      <th>9</th>\n",
       "      <td>inventory_id</td>\n",
       "      <td>model_family</td>\n",
       "      <td>0.924122</td>\n",
       "      <td>0.924122</td>\n",
       "    </tr>\n",
       "    <tr>\n",
       "      <th>10</th>\n",
       "      <td>model_family</td>\n",
       "      <td>sku</td>\n",
       "      <td>0.917067</td>\n",
       "      <td>0.917067</td>\n",
       "    </tr>\n",
       "    <tr>\n",
       "      <th>11</th>\n",
       "      <td>ext_model_family</td>\n",
       "      <td>inventory_id</td>\n",
       "      <td>0.909757</td>\n",
       "      <td>0.909757</td>\n",
       "    </tr>\n",
       "    <tr>\n",
       "      <th>12</th>\n",
       "      <td>ext_model_family</td>\n",
       "      <td>sku</td>\n",
       "      <td>0.902636</td>\n",
       "      <td>0.902636</td>\n",
       "    </tr>\n",
       "    <tr>\n",
       "      <th>13</th>\n",
       "      <td>inventory_id</td>\n",
       "      <td>tgt_enc_sim_impt_platforms</td>\n",
       "      <td>0.894981</td>\n",
       "      <td>0.894981</td>\n",
       "    </tr>\n",
       "    <tr>\n",
       "      <th>14</th>\n",
       "      <td>quantity</td>\n",
       "      <td>selling_price</td>\n",
       "      <td>0.889678</td>\n",
       "      <td>0.889678</td>\n",
       "    </tr>\n",
       "    <tr>\n",
       "      <th>15</th>\n",
       "      <td>sku</td>\n",
       "      <td>tgt_enc_sim_impt_platforms</td>\n",
       "      <td>0.885265</td>\n",
       "      <td>0.885265</td>\n",
       "    </tr>\n",
       "    <tr>\n",
       "      <th>16</th>\n",
       "      <td>quantity</td>\n",
       "      <td>selling_cost</td>\n",
       "      <td>0.871403</td>\n",
       "      <td>0.871403</td>\n",
       "    </tr>\n",
       "    <tr>\n",
       "      <th>17</th>\n",
       "      <td>inventory_id</td>\n",
       "      <td>unit_cost</td>\n",
       "      <td>0.859735</td>\n",
       "      <td>0.859735</td>\n",
       "    </tr>\n",
       "    <tr>\n",
       "      <th>18</th>\n",
       "      <td>model_family</td>\n",
       "      <td>unit_cost</td>\n",
       "      <td>0.858565</td>\n",
       "      <td>0.858565</td>\n",
       "    </tr>\n",
       "    <tr>\n",
       "      <th>19</th>\n",
       "      <td>sku</td>\n",
       "      <td>unit_cost</td>\n",
       "      <td>0.856862</td>\n",
       "      <td>0.856862</td>\n",
       "    </tr>\n",
       "    <tr>\n",
       "      <th>20</th>\n",
       "      <td>ext_model_family</td>\n",
       "      <td>unit_cost</td>\n",
       "      <td>0.853079</td>\n",
       "      <td>0.853079</td>\n",
       "    </tr>\n",
       "    <tr>\n",
       "      <th>21</th>\n",
       "      <td>tgt_enc_sim_impt_platforms</td>\n",
       "      <td>unit_cost</td>\n",
       "      <td>0.824691</td>\n",
       "      <td>0.824691</td>\n",
       "    </tr>\n",
       "    <tr>\n",
       "      <th>22</th>\n",
       "      <td>memory_size</td>\n",
       "      <td>model_family</td>\n",
       "      <td>0.635943</td>\n",
       "      <td>0.635943</td>\n",
       "    </tr>\n",
       "  </tbody>\n",
       "</table>\n",
       "</div>"
      ],
      "text/plain": [
       "                    Variable 1                  Variable 2  Corr Coef  \\\n",
       "0                        brand                manufacturer   0.995840   \n",
       "1                 selling_cost               selling_price   0.989539   \n",
       "2                 inventory_id                         sku   0.988895   \n",
       "3                   invoice_no                    order_no   0.988130   \n",
       "4             ext_model_family                model_family   0.983360   \n",
       "5                      channel              source_channel   0.967496   \n",
       "6                    condition                   ext_grade   0.959041   \n",
       "7             ext_model_family  tgt_enc_sim_impt_platforms   0.949108   \n",
       "8                 model_family  tgt_enc_sim_impt_platforms   0.947178   \n",
       "9                 inventory_id                model_family   0.924122   \n",
       "10                model_family                         sku   0.917067   \n",
       "11            ext_model_family                inventory_id   0.909757   \n",
       "12            ext_model_family                         sku   0.902636   \n",
       "13                inventory_id  tgt_enc_sim_impt_platforms   0.894981   \n",
       "14                    quantity               selling_price   0.889678   \n",
       "15                         sku  tgt_enc_sim_impt_platforms   0.885265   \n",
       "16                    quantity                selling_cost   0.871403   \n",
       "17                inventory_id                   unit_cost   0.859735   \n",
       "18                model_family                   unit_cost   0.858565   \n",
       "19                         sku                   unit_cost   0.856862   \n",
       "20            ext_model_family                   unit_cost   0.853079   \n",
       "21  tgt_enc_sim_impt_platforms                   unit_cost   0.824691   \n",
       "22                 memory_size                model_family   0.635943   \n",
       "\n",
       "    Abs Corr Coef  \n",
       "0        0.995840  \n",
       "1        0.989539  \n",
       "2        0.988895  \n",
       "3        0.988130  \n",
       "4        0.983360  \n",
       "5        0.967496  \n",
       "6        0.959041  \n",
       "7        0.949108  \n",
       "8        0.947178  \n",
       "9        0.924122  \n",
       "10       0.917067  \n",
       "11       0.909757  \n",
       "12       0.902636  \n",
       "13       0.894981  \n",
       "14       0.889678  \n",
       "15       0.885265  \n",
       "16       0.871403  \n",
       "17       0.859735  \n",
       "18       0.858565  \n",
       "19       0.856862  \n",
       "20       0.853079  \n",
       "21       0.824691  \n",
       "22       0.635943  "
      ]
     },
     "execution_count": 18,
     "metadata": {},
     "output_type": "execute_result"
    }
   ],
   "source": [
    "out = eda.get_correlation_table(train_X)\n",
    "out[out[\"Abs Corr Coef\"] > 0.6]"
   ]
  },
  {
   "cell_type": "code",
   "execution_count": 19,
   "metadata": {},
   "outputs": [
    {
     "data": {
      "text/html": [
       "<div>\n",
       "<style scoped>\n",
       "    .dataframe tbody tr th:only-of-type {\n",
       "        vertical-align: middle;\n",
       "    }\n",
       "\n",
       "    .dataframe tbody tr th {\n",
       "        vertical-align: top;\n",
       "    }\n",
       "\n",
       "    .dataframe thead th {\n",
       "        text-align: right;\n",
       "    }\n",
       "</style>\n",
       "<table border=\"1\" class=\"dataframe\">\n",
       "  <thead>\n",
       "    <tr style=\"text-align: right;\">\n",
       "      <th></th>\n",
       "      <th>Variable 1</th>\n",
       "      <th>Variable 2</th>\n",
       "      <th>Corr Coef</th>\n",
       "      <th>Abs Corr Coef</th>\n",
       "    </tr>\n",
       "  </thead>\n",
       "  <tbody>\n",
       "    <tr>\n",
       "      <th>0</th>\n",
       "      <td>model_family</td>\n",
       "      <td>tgt_enc_sim_impt_platforms</td>\n",
       "      <td>0.947178</td>\n",
       "      <td>0.947178</td>\n",
       "    </tr>\n",
       "    <tr>\n",
       "      <th>1</th>\n",
       "      <td>model_family</td>\n",
       "      <td>sku</td>\n",
       "      <td>0.917067</td>\n",
       "      <td>0.917067</td>\n",
       "    </tr>\n",
       "    <tr>\n",
       "      <th>2</th>\n",
       "      <td>sku</td>\n",
       "      <td>tgt_enc_sim_impt_platforms</td>\n",
       "      <td>0.885265</td>\n",
       "      <td>0.885265</td>\n",
       "    </tr>\n",
       "    <tr>\n",
       "      <th>3</th>\n",
       "      <td>model_family</td>\n",
       "      <td>unit_cost</td>\n",
       "      <td>0.858565</td>\n",
       "      <td>0.858565</td>\n",
       "    </tr>\n",
       "    <tr>\n",
       "      <th>4</th>\n",
       "      <td>sku</td>\n",
       "      <td>unit_cost</td>\n",
       "      <td>0.856862</td>\n",
       "      <td>0.856862</td>\n",
       "    </tr>\n",
       "    <tr>\n",
       "      <th>5</th>\n",
       "      <td>tgt_enc_sim_impt_platforms</td>\n",
       "      <td>unit_cost</td>\n",
       "      <td>0.824691</td>\n",
       "      <td>0.824691</td>\n",
       "    </tr>\n",
       "    <tr>\n",
       "      <th>6</th>\n",
       "      <td>memory_size</td>\n",
       "      <td>model_family</td>\n",
       "      <td>0.635943</td>\n",
       "      <td>0.635943</td>\n",
       "    </tr>\n",
       "  </tbody>\n",
       "</table>\n",
       "</div>"
      ],
      "text/plain": [
       "                   Variable 1                  Variable 2  Corr Coef  \\\n",
       "0                model_family  tgt_enc_sim_impt_platforms   0.947178   \n",
       "1                model_family                         sku   0.917067   \n",
       "2                         sku  tgt_enc_sim_impt_platforms   0.885265   \n",
       "3                model_family                   unit_cost   0.858565   \n",
       "4                         sku                   unit_cost   0.856862   \n",
       "5  tgt_enc_sim_impt_platforms                   unit_cost   0.824691   \n",
       "6                 memory_size                model_family   0.635943   \n",
       "\n",
       "   Abs Corr Coef  \n",
       "0       0.947178  \n",
       "1       0.917067  \n",
       "2       0.885265  \n",
       "3       0.858565  \n",
       "4       0.856862  \n",
       "5       0.824691  \n",
       "6       0.635943  "
      ]
     },
     "execution_count": 19,
     "metadata": {},
     "output_type": "execute_result"
    }
   ],
   "source": [
    "# channel and source_channel highly correlated. So discarding source_channel\n",
    "# brand and manufacturer are almost same so discarding manufacturer.\n",
    "# Similarly keeping sku between inventory and sku\n",
    "# Similarly keeping condition between conditions and ext_grade\n",
    "# Similarly keeping model_family between platforms, ext_model_family and model_family\n",
    "# Discarding selling price & selling cost as they are multiples of unit price/cost & quantity.\n",
    "# Discarding gp as it is the of selling price and selling cost\n",
    "# order_no, line, invoice_no & customername cannot be IDVs\n",
    "curated_columns = list(\n",
    "    set(train_X.columns.to_list()) \n",
    "    - set(['manufacturer', 'inventory_id', 'ext_grade', 'source_channel',\n",
    "           'tgt_enc_iter_impt_platforms', 'ext_model_family',\n",
    "           'order_no', 'line', 'inventory_id',\n",
    "           'gp', 'selling_price', 'selling_cost','invoice_no','customername'])\n",
    ")\n",
    "\n",
    "train_X = train_X[curated_columns]\n",
    "\n",
    "out = eda.get_correlation_table(train_X)\n",
    "out[out[\"Abs Corr Coef\"] > 0.6]"
   ]
  },
  {
   "cell_type": "code",
   "execution_count": 20,
   "metadata": {},
   "outputs": [
    {
     "data": {},
     "metadata": {},
     "output_type": "display_data"
    },
    {
     "data": {
      "application/vnd.holoviews_exec.v0+json": "",
      "text/html": [
       "<div id='21396'>\n",
       "\n",
       "\n",
       "\n",
       "\n",
       "\n",
       "  <div class=\"bk-root\" id=\"278b81f7-ae8c-4232-be54-775917c25bea\" data-root-id=\"21396\"></div>\n",
       "</div>\n",
       "<script type=\"application/javascript\">(function(root) {\n",
       "  function embed_document(root) {\n",
       "  var docs_json = {\"6238c62b-b71b-4ff6-b0ac-be3e55cfd374\":{\"roots\":{\"references\":[{\"attributes\":{\"overlay\":{\"id\":\"21423\"}},\"id\":\"21421\",\"type\":\"BoxZoomTool\"},{\"attributes\":{\"bar_line_color\":\"black\",\"color_mapper\":{\"id\":\"21435\"},\"formatter\":{\"id\":\"21450\"},\"label_standoff\":8,\"location\":[0,0],\"major_tick_line_color\":\"black\",\"ticker\":{\"id\":\"21444\"}},\"id\":\"21445\",\"type\":\"ColorBar\"},{\"attributes\":{},\"id\":\"21431\",\"type\":\"BasicTickFormatter\"},{\"attributes\":{},\"id\":\"21433\",\"type\":\"BasicTickFormatter\"},{\"attributes\":{\"align\":null,\"below\":[{\"id\":\"21410\"}],\"center\":[{\"id\":\"21413\"},{\"id\":\"21417\"}],\"left\":[{\"id\":\"21414\"}],\"margin\":null,\"min_border_bottom\":10,\"min_border_left\":10,\"min_border_right\":10,\"min_border_top\":10,\"plot_height\":300,\"renderers\":[{\"id\":\"21442\"}],\"right\":[{\"id\":\"21445\"}],\"sizing_mode\":\"fixed\",\"title\":{\"id\":\"21402\"},\"toolbar\":{\"id\":\"21424\"},\"x_range\":{\"id\":\"21398\"},\"x_scale\":{\"id\":\"21406\"},\"y_range\":{\"id\":\"21399\"},\"y_scale\":{\"id\":\"21408\"}},\"id\":\"21401\",\"subtype\":\"Figure\",\"type\":\"Plot\"},{\"attributes\":{\"active_drag\":\"auto\",\"active_inspect\":\"auto\",\"active_multi\":null,\"active_scroll\":\"auto\",\"active_tap\":\"auto\",\"tools\":[{\"id\":\"21400\"},{\"id\":\"21418\"},{\"id\":\"21419\"},{\"id\":\"21420\"},{\"id\":\"21421\"},{\"id\":\"21422\"}]},\"id\":\"21424\",\"type\":\"Toolbar\"},{\"attributes\":{\"margin\":[5,5,5,5],\"name\":\"HSpacer47178\",\"sizing_mode\":\"stretch_width\"},\"id\":\"21397\",\"type\":\"Spacer\"},{\"attributes\":{},\"id\":\"21411\",\"type\":\"BasicTicker\"},{\"attributes\":{\"axis_label\":\"brand\",\"bounds\":\"auto\",\"formatter\":{\"id\":\"21431\"},\"major_label_orientation\":\"horizontal\",\"ticker\":{\"id\":\"21411\"}},\"id\":\"21410\",\"type\":\"LinearAxis\"},{\"attributes\":{\"data\":{\"Count\":{\"__ndarray__\":\"zbUAAA5cAAAfIQAAjEQAANNtAAD9CQAAFAIAAIcBAACQBgAAbwYAAPgDAACZAgAAPAAAAHcBAAAwCAAAzwIAAGABAADmAgAAAQEAAGMDAAAtAAAAbwAAAFMAAACcAQAAdQAAAOwAAAAUAAAAAQAAAKIAAAAHAAAAWgAAABoAAAAQAAAASQAAACQAAAAUAAAADwAAABsAAAAdAAAAAgAAAAEAAAABAAAADAAAAAYAAAACAAAADwAAAAwAAAACAAAACgAAAAgAAAABAAAAAgAAAAMAAAADAAAAAgAAAAIAAAAHAAAAAQAAAAMAAAADAAAAAQAAAAMAAAACAAAAAQAAAAMAAAACAAAAAwAAAAEAAAABAAAAAQAAAA==\",\"dtype\":\"int32\",\"order\":\"little\",\"shape\":[70]},\"q\":[55,56,51,53,56,63,11,33,35,54,53,37,10,34,58,50,7,52,52,54,25,24,33,26,41,13,41,50,32,7,31,34,51,28,57,12,10,74,74,18,16,19,31,13,20,24,14,11,14,12,7,23,38,9,8,14,9,23,6,8,15,19,12,52,44,57,37,55,22,10],\"r\":[-14,-16,-6,-10,-15,-29,-10,-6,-11,-12,-9,-15,-11,-8,-20,-3,-2,-8,-7,-11,-8,-6,-7,-11,-22,-15,-23,-4,-5,-3,-2,-9,-8,-15,-18,-12,-8,-52,-51,-15,-10,-8,-3,-14,-29,-7,-16,-11,-15,-15,-4,-11,-16,-8,-6,-6,-6,-15,-3,-3,-8,-16,-3,-10,-29,-20,-14,-16,-3,-9]},\"selected\":{\"id\":\"21437\"},\"selection_policy\":{\"id\":\"21453\"}},\"id\":\"21436\",\"type\":\"ColumnDataSource\"},{\"attributes\":{\"aspect_scale\":3.9633785822160372,\"fill_alpha\":{\"value\":0.2},\"fill_color\":{\"field\":\"Count\",\"transform\":{\"id\":\"21435\"}},\"line_alpha\":{\"value\":0.2},\"line_color\":{\"field\":\"Count\",\"transform\":{\"id\":\"21435\"}},\"q\":{\"field\":\"q\"},\"r\":{\"field\":\"r\"},\"size\":6.580370361306615},\"id\":\"21441\",\"type\":\"HexTile\"},{\"attributes\":{\"axis\":{\"id\":\"21410\"},\"grid_line_color\":null,\"ticker\":null},\"id\":\"21413\",\"type\":\"Grid\"},{\"attributes\":{},\"id\":\"21418\",\"type\":\"SaveTool\"},{\"attributes\":{},\"id\":\"21437\",\"type\":\"Selection\"},{\"attributes\":{},\"id\":\"21444\",\"type\":\"BasicTicker\"},{\"attributes\":{\"high\":46541,\"low\":1,\"palette\":[\"#b3fef5\",\"#b0fef5\",\"#adfdf5\",\"#a9fcf5\",\"#a6fbf6\",\"#a3faf6\",\"#a0faf6\",\"#9df9f6\",\"#9af8f6\",\"#97f7f6\",\"#93f7f6\",\"#90f6f6\",\"#8df5f6\",\"#8af4f7\",\"#87f3f7\",\"#83f2f7\",\"#80f2f7\",\"#7df1f7\",\"#79f0f7\",\"#76eff7\",\"#73eef7\",\"#6fedf8\",\"#6cecf8\",\"#68ecf8\",\"#65ebf8\",\"#61eaf8\",\"#5ee9f8\",\"#5ae8f8\",\"#57e7f8\",\"#53e6f8\",\"#50e5f9\",\"#4ce4f9\",\"#49e3f9\",\"#45e2f9\",\"#42e1f9\",\"#3ee0f9\",\"#3bdff9\",\"#38def9\",\"#35ddf9\",\"#32dcf9\",\"#30dbfa\",\"#2ed9fa\",\"#2dd8fa\",\"#2cd7fa\",\"#2bd6fa\",\"#2bd5fa\",\"#2ad3fa\",\"#2ad2fa\",\"#29d1fa\",\"#29d0fb\",\"#29cffb\",\"#28cdfb\",\"#28ccfb\",\"#28cbfb\",\"#28cafb\",\"#28c8fb\",\"#28c7fb\",\"#29c6fb\",\"#29c5fb\",\"#29c4fb\",\"#29c2fb\",\"#2ac1fb\",\"#2ac0fb\",\"#2bbffb\",\"#2bbdfc\",\"#2cbcfc\",\"#2dbbfc\",\"#2db9fc\",\"#2eb8fc\",\"#2fb7fc\",\"#2fb6fc\",\"#30b4fc\",\"#31b3fc\",\"#32b2fc\",\"#32b0fc\",\"#33affc\",\"#33aefc\",\"#34adfc\",\"#34abfc\",\"#34aafc\",\"#35a9fc\",\"#35a8fc\",\"#35a6fc\",\"#35a5fc\",\"#35a4fc\",\"#35a3fc\",\"#35a1fc\",\"#35a0fc\",\"#359ffc\",\"#359dfc\",\"#359cfc\",\"#359bfc\",\"#349afd\",\"#3498fd\",\"#3497fd\",\"#3396fd\",\"#3395fd\",\"#3293fd\",\"#3292fd\",\"#3191fd\",\"#3090fd\",\"#308ffd\",\"#2f8dfd\",\"#2f8cfd\",\"#2e8bfd\",\"#2e8afd\",\"#2d88fd\",\"#2d87fd\",\"#2c86fd\",\"#2c84fd\",\"#2c83fd\",\"#2c82fd\",\"#2b81fd\",\"#2b7ffd\",\"#2b7efd\",\"#2b7dfd\",\"#2b7bfd\",\"#2b7afd\",\"#2b79fd\",\"#2b77fd\",\"#2b76fd\",\"#2b75fd\",\"#2b73fd\",\"#2c72fd\",\"#2c71fd\",\"#2c6ffd\",\"#2c6efd\",\"#2d6cfd\",\"#2d6bfd\",\"#2d6afc\",\"#2e68fc\",\"#2e67fc\",\"#2e65fc\",\"#2e64fc\",\"#2f62fc\",\"#2f61fc\",\"#2f5ffc\",\"#2f5efc\",\"#2f5dfc\",\"#2f5bfc\",\"#2f5afc\",\"#2f58fb\",\"#2f57fb\",\"#2f55fb\",\"#2f53fb\",\"#2f52fb\",\"#2f50fb\",\"#2f4ffb\",\"#2f4dfb\",\"#2e4cfb\",\"#2e4afb\",\"#2e48fb\",\"#2e47fa\",\"#2d45fa\",\"#2d43fa\",\"#2d42fa\",\"#2d40fa\",\"#2c3efa\",\"#2c3dfa\",\"#2b3bf9\",\"#2b39f9\",\"#2a37f9\",\"#2a36f8\",\"#2934f8\",\"#2832f7\",\"#2831f7\",\"#272ff6\",\"#262ef5\",\"#252cf5\",\"#252af4\",\"#2429f3\",\"#2327f2\",\"#2226f1\",\"#2124f0\",\"#2023ef\",\"#1f22ee\",\"#1e20ed\",\"#1d1feb\",\"#1c1eea\",\"#1b1ce9\",\"#1a1be7\",\"#181ae6\",\"#1719e5\",\"#1618e3\",\"#1417e1\",\"#1316e0\",\"#1215de\",\"#1014dc\",\"#0f13db\",\"#0e12d9\",\"#0d11d7\",\"#0c10d5\",\"#0b0fd3\",\"#0a0ed1\",\"#090dd0\",\"#080dce\",\"#080ccc\",\"#070bca\",\"#070ac8\",\"#0709c6\",\"#0708c4\",\"#0707c2\",\"#0707bf\",\"#0806bd\",\"#0806bb\",\"#0905b9\",\"#0904b7\",\"#0a04b5\",\"#0a04b2\",\"#0b03b0\",\"#0c03ae\",\"#0d02ab\",\"#0e02a9\",\"#0e02a7\",\"#0f02a4\",\"#0f01a2\",\"#1001a0\",\"#10019d\",\"#10019b\",\"#100199\",\"#100197\",\"#100194\",\"#0f0192\",\"#0f0190\",\"#0f018e\",\"#0e018b\",\"#0e0189\",\"#0d0187\",\"#0d0185\",\"#0c0183\",\"#0b0181\",\"#0b017e\",\"#0a017c\",\"#09017a\",\"#090178\",\"#080276\",\"#070274\",\"#060272\",\"#060270\",\"#05026e\",\"#04026c\",\"#030269\",\"#030267\",\"#020265\",\"#010263\",\"#010261\",\"#00025f\",\"#00025d\",\"#00025b\",\"#000259\",\"#000257\",\"#000255\",\"#000154\",\"#000152\",\"#000150\",\"#00004e\"]},\"id\":\"21435\",\"type\":\"LinearColorMapper\"},{\"attributes\":{\"bottom_units\":\"screen\",\"fill_alpha\":0.5,\"fill_color\":\"lightgrey\",\"left_units\":\"screen\",\"level\":\"overlay\",\"line_alpha\":1.0,\"line_color\":\"black\",\"line_dash\":[4,4],\"line_width\":2,\"right_units\":\"screen\",\"top_units\":\"screen\"},\"id\":\"21423\",\"type\":\"BoxAnnotation\"},{\"attributes\":{},\"id\":\"21422\",\"type\":\"ResetTool\"},{\"attributes\":{\"margin\":[5,5,5,5],\"name\":\"HSpacer47179\",\"sizing_mode\":\"stretch_width\"},\"id\":\"21528\",\"type\":\"Spacer\"},{\"attributes\":{},\"id\":\"21419\",\"type\":\"PanTool\"},{\"attributes\":{},\"id\":\"21453\",\"type\":\"UnionRenderers\"},{\"attributes\":{\"end\":144.35426838203296,\"reset_end\":144.35426838203296,\"reset_start\":7.380082457998429,\"start\":7.380082457998429,\"tags\":[[[\"brand\",\"brand\",null]]]},\"id\":\"21398\",\"type\":\"Range1d\"},{\"attributes\":{},\"id\":\"21415\",\"type\":\"BasicTicker\"},{\"attributes\":{\"text\":\"Correlation: 0.198\",\"text_color\":{\"value\":\"black\"},\"text_font_size\":{\"value\":\"12pt\"}},\"id\":\"21402\",\"type\":\"Title\"},{\"attributes\":{\"axis_label\":\"color\",\"bounds\":\"auto\",\"formatter\":{\"id\":\"21433\"},\"major_label_orientation\":\"horizontal\",\"ticker\":{\"id\":\"21415\"}},\"id\":\"21414\",\"type\":\"LinearAxis\"},{\"attributes\":{},\"id\":\"21408\",\"type\":\"LinearScale\"},{\"attributes\":{},\"id\":\"21420\",\"type\":\"WheelZoomTool\"},{\"attributes\":{\"end\":557.130555485674,\"reset_end\":557.130555485674,\"reset_start\":-35.10277703192141,\"start\":-35.10277703192141,\"tags\":[[[\"color\",\"color\",null]]]},\"id\":\"21399\",\"type\":\"Range1d\"},{\"attributes\":{},\"id\":\"21406\",\"type\":\"LinearScale\"},{\"attributes\":{\"aspect_scale\":3.9633785822160372,\"fill_color\":{\"field\":\"Count\",\"transform\":{\"id\":\"21435\"}},\"line_color\":{\"field\":\"Count\",\"transform\":{\"id\":\"21435\"}},\"q\":{\"field\":\"q\"},\"r\":{\"field\":\"r\"},\"size\":6.580370361306615},\"id\":\"21439\",\"type\":\"HexTile\"},{\"attributes\":{\"callback\":null,\"renderers\":[{\"id\":\"21442\"}],\"tags\":[\"hv_created\"],\"tooltips\":[[\"Count\",\"@{Count}\"]]},\"id\":\"21400\",\"type\":\"HoverTool\"},{\"attributes\":{},\"id\":\"21450\",\"type\":\"BasicTickFormatter\"},{\"attributes\":{\"axis\":{\"id\":\"21414\"},\"dimension\":1,\"grid_line_color\":null,\"ticker\":null},\"id\":\"21417\",\"type\":\"Grid\"},{\"attributes\":{\"data_source\":{\"id\":\"21436\"},\"glyph\":{\"id\":\"21439\"},\"hover_glyph\":null,\"muted_glyph\":{\"id\":\"21441\"},\"nonselection_glyph\":{\"id\":\"21440\"},\"selection_glyph\":null,\"view\":{\"id\":\"21443\"}},\"id\":\"21442\",\"type\":\"GlyphRenderer\"},{\"attributes\":{\"children\":[{\"id\":\"21397\"},{\"id\":\"21401\"},{\"id\":\"21528\"}],\"margin\":[0,0,0,0],\"name\":\"Row47174\",\"tags\":[\"embedded\"]},\"id\":\"21396\",\"type\":\"Row\"},{\"attributes\":{\"source\":{\"id\":\"21436\"}},\"id\":\"21443\",\"type\":\"CDSView\"},{\"attributes\":{\"aspect_scale\":3.9633785822160372,\"fill_alpha\":{\"value\":0.1},\"fill_color\":{\"field\":\"Count\",\"transform\":{\"id\":\"21435\"}},\"line_alpha\":{\"value\":0.1},\"line_color\":{\"field\":\"Count\",\"transform\":{\"id\":\"21435\"}},\"q\":{\"field\":\"q\"},\"r\":{\"field\":\"r\"},\"size\":6.580370361306615},\"id\":\"21440\",\"type\":\"HexTile\"}],\"root_ids\":[\"21396\"]},\"title\":\"Bokeh Application\",\"version\":\"2.2.3\"}};\n",
       "  var render_items = [{\"docid\":\"6238c62b-b71b-4ff6-b0ac-be3e55cfd374\",\"root_ids\":[\"21396\"],\"roots\":{\"21396\":\"278b81f7-ae8c-4232-be54-775917c25bea\"}}];\n",
       "  root.Bokeh.embed.embed_items_notebook(docs_json, render_items);\n",
       "  }\n",
       "if (root.Bokeh !== undefined) {\n",
       "    embed_document(root);\n",
       "  } else {\n",
       "    var attempts = 0;\n",
       "    var timer = setInterval(function(root) {\n",
       "      if (root.Bokeh !== undefined) {\n",
       "        clearInterval(timer);\n",
       "        embed_document(root);\n",
       "      } else if (document.readyState == \"complete\") {\n",
       "        attempts++;\n",
       "        if (attempts > 100) {\n",
       "          clearInterval(timer);\n",
       "          console.log(\"Bokeh: ERROR: Unable to run BokehJS code because BokehJS library is missing\");\n",
       "        }\n",
       "      }\n",
       "    }, 10, root)\n",
       "  }\n",
       "})(window);</script>"
      ],
      "text/plain": [
       ":HexTiles   [brand,color]"
      ]
     },
     "execution_count": 20,
     "metadata": {
      "application/vnd.holoviews_exec.v0+json": {
       "id": "21396"
      }
     },
     "output_type": "execute_result"
    }
   ],
   "source": [
    "out = eda.get_bivariate_plots(train_X, x_cols=['brand'], y_cols=['color'])\n",
    "out"
   ]
  },
  {
   "cell_type": "code",
   "execution_count": 21,
   "metadata": {},
   "outputs": [
    {
     "name": "stdout",
     "output_type": "stream",
     "text": [
      "Wall time: 2min 58s\n"
     ]
    }
   ],
   "source": [
    "%%time\n",
    "# create reports as needed\n",
    "cols = train_X.columns.to_list()\n",
    "all_plots = {}\n",
    "for ii, col1 in enumerate(cols): \n",
    "    for jj in range(ii+1, len(cols)):\n",
    "        col2 = cols[jj]\n",
    "        out = eda.get_bivariate_plots(train_X, x_cols=[col1], y_cols=[col2])\n",
    "        all_plots.update({f'{col2} vs {col1}': out})\n",
    "\n",
    "reports.create_report(all_plots, name='feature_analysis_bivariate')"
   ]
  },
  {
   "cell_type": "markdown",
   "metadata": {},
   "source": [
    "A report containing the bivariate plot is available [here](https://drive.google.com/file/d/1S3JXE1TTwuALugqL5I4zsRpjYy9vIXZy/view?usp=sharing)\n",
    "\n",
    "Alternatively, the above plots can be generated as a single html as below. The output from this is available [here](https://drive.google.com/file/d/12o2Q7O6q2Zck0cHBQ36WDeWuy7b4athM/view?usp=sharing)"
   ]
  },
  {
   "cell_type": "code",
   "execution_count": 22,
   "metadata": {},
   "outputs": [],
   "source": [
    "reports.feature_interactions(train_X,'./feature_interaction_report.html')"
   ]
  },
  {
   "cell_type": "markdown",
   "metadata": {},
   "source": [
    "### 3.2.3 Key Drivers - Interaction with Target variable"
   ]
  },
  {
   "cell_type": "code",
   "execution_count": 23,
   "metadata": {},
   "outputs": [
    {
     "data": {},
     "metadata": {},
     "output_type": "display_data"
    },
    {
     "data": {},
     "metadata": {},
     "output_type": "display_data"
    },
    {
     "data": {
      "application/vnd.holoviews_exec.v0+json": "",
      "text/html": [
       "<div id='55341'>\n",
       "\n",
       "\n",
       "\n",
       "\n",
       "\n",
       "  <div class=\"bk-root\" id=\"9cb3df45-a875-426d-900c-ac11eee8c22b\" data-root-id=\"55341\"></div>\n",
       "</div>\n",
       "<script type=\"application/javascript\">(function(root) {\n",
       "  function embed_document(root) {\n",
       "  var docs_json = {\"3eb22f12-87a0-4903-82f3-327442ac465b\":{\"roots\":{\"references\":[{\"attributes\":{},\"id\":\"55352\",\"type\":\"CategoricalScale\"},{\"attributes\":{\"axis_label\":\"Pearson_correlation_with_Target\",\"bounds\":\"auto\",\"formatter\":{\"id\":\"55382\"},\"major_label_orientation\":\"horizontal\",\"ticker\":{\"id\":\"55355\"}},\"id\":\"55354\",\"type\":\"LinearAxis\"},{\"attributes\":{\"align\":null,\"below\":[{\"id\":\"55354\"}],\"center\":[{\"id\":\"55357\"},{\"id\":\"55360\"}],\"left\":[{\"id\":\"55358\"}],\"margin\":null,\"min_border_bottom\":10,\"min_border_left\":10,\"min_border_right\":10,\"min_border_top\":10,\"plot_height\":300,\"plot_width\":700,\"renderers\":[{\"id\":\"55380\"}],\"sizing_mode\":\"fixed\",\"title\":{\"id\":\"55346\"},\"toolbar\":{\"id\":\"55367\"},\"x_range\":{\"id\":\"55342\"},\"x_scale\":{\"id\":\"55350\"},\"y_range\":{\"id\":\"55343\"},\"y_scale\":{\"id\":\"55352\"}},\"id\":\"55345\",\"subtype\":\"Figure\",\"type\":\"Plot\"},{\"attributes\":{\"fill_alpha\":{\"value\":0.1},\"fill_color\":{\"value\":\"#1f77b3\"},\"height\":{\"value\":0.8},\"line_alpha\":{\"value\":0.1},\"right\":{\"field\":\"Pearson_correlation_with_Target\"},\"y\":{\"field\":\"index\"}},\"id\":\"55378\",\"type\":\"HBar\"},{\"attributes\":{\"active_drag\":\"auto\",\"active_inspect\":\"auto\",\"active_multi\":null,\"active_scroll\":\"auto\",\"active_tap\":\"auto\",\"tools\":[{\"id\":\"55344\"},{\"id\":\"55361\"},{\"id\":\"55362\"},{\"id\":\"55363\"},{\"id\":\"55364\"},{\"id\":\"55365\"}]},\"id\":\"55367\",\"type\":\"Toolbar\"},{\"attributes\":{\"end\":1.048123681015668,\"reset_end\":1.048123681015668,\"reset_start\":-0.2009813396594761,\"start\":-0.2009813396594761,\"tags\":[[[\"Pearson_correlation_with_Target\",\"Pearson_correlation_with_Target\",null]]]},\"id\":\"55342\",\"type\":\"Range1d\"},{\"attributes\":{},\"id\":\"55384\",\"type\":\"CategoricalTickFormatter\"},{\"attributes\":{},\"id\":\"55359\",\"type\":\"CategoricalTicker\"},{\"attributes\":{\"axis_label\":\"\",\"bounds\":\"auto\",\"formatter\":{\"id\":\"55384\"},\"major_label_orientation\":\"horizontal\",\"ticker\":{\"id\":\"55359\"}},\"id\":\"55358\",\"type\":\"CategoricalAxis\"},{\"attributes\":{},\"id\":\"55362\",\"type\":\"PanTool\"},{\"attributes\":{\"fill_color\":{\"value\":\"#1f77b3\"},\"height\":{\"value\":0.8},\"right\":{\"field\":\"Pearson_correlation_with_Target\"},\"y\":{\"field\":\"index\"}},\"id\":\"55377\",\"type\":\"HBar\"},{\"attributes\":{\"fill_alpha\":{\"value\":0.2},\"fill_color\":{\"value\":\"#1f77b3\"},\"height\":{\"value\":0.8},\"line_alpha\":{\"value\":0.2},\"right\":{\"field\":\"Pearson_correlation_with_Target\"},\"y\":{\"field\":\"index\"}},\"id\":\"55379\",\"type\":\"HBar\"},{\"attributes\":{\"callback\":null,\"renderers\":[{\"id\":\"55380\"}],\"tags\":[\"hv_created\"],\"tooltips\":[[\"index\",\"@{index}\"],[\"Pearson_correlation_with_Target\",\"@{Pearson_correlation_with_Target}\"]]},\"id\":\"55344\",\"type\":\"HoverTool\"},{\"attributes\":{},\"id\":\"55361\",\"type\":\"SaveTool\"},{\"attributes\":{},\"id\":\"55382\",\"type\":\"BasicTickFormatter\"},{\"attributes\":{\"axis\":{\"id\":\"55354\"},\"grid_line_color\":null,\"ticker\":null},\"id\":\"55357\",\"type\":\"Grid\"},{\"attributes\":{},\"id\":\"55363\",\"type\":\"WheelZoomTool\"},{\"attributes\":{\"bottom_units\":\"screen\",\"fill_alpha\":0.5,\"fill_color\":\"lightgrey\",\"left_units\":\"screen\",\"level\":\"overlay\",\"line_alpha\":1.0,\"line_color\":\"black\",\"line_dash\":[4,4],\"line_width\":2,\"right_units\":\"screen\",\"top_units\":\"screen\"},\"id\":\"55366\",\"type\":\"BoxAnnotation\"},{\"attributes\":{},\"id\":\"55350\",\"type\":\"LinearScale\"},{\"attributes\":{},\"id\":\"55365\",\"type\":\"ResetTool\"},{\"attributes\":{\"text\":\"Feature Correlation with Target Function\",\"text_color\":{\"value\":\"black\"},\"text_font_size\":{\"value\":\"12pt\"}},\"id\":\"55346\",\"type\":\"Title\"},{\"attributes\":{},\"id\":\"55391\",\"type\":\"UnionRenderers\"},{\"attributes\":{\"axis\":{\"id\":\"55358\"},\"dimension\":1,\"grid_line_color\":null,\"ticker\":null},\"id\":\"55360\",\"type\":\"Grid\"},{\"attributes\":{\"factors\":[\"business_unit\",\"lock_status\",\"days_since_last_purchase\",\"first_time_customer\",\"order_type\",\"carrier\",\"brand\",\"quantity\",\"tgt_enc_sim_impt_functional_status\",\"tgt_enc_sim_impt_technology\",\"sales_person\",\"color\",\"channel\",\"condition\",\"memory_size\",\"unit_cost\",\"tgt_enc_sim_impt_platforms\",\"model_family\",\"sku\"],\"tags\":[[[\"index\",\"index\",null]]]},\"id\":\"55343\",\"type\":\"FactorRange\"},{\"attributes\":{\"data_source\":{\"id\":\"55374\"},\"glyph\":{\"id\":\"55377\"},\"hover_glyph\":null,\"muted_glyph\":{\"id\":\"55379\"},\"nonselection_glyph\":{\"id\":\"55378\"},\"selection_glyph\":null,\"view\":{\"id\":\"55381\"}},\"id\":\"55380\",\"type\":\"GlyphRenderer\"},{\"attributes\":{\"child\":{\"id\":\"55345\"},\"name\":\"feature_correlation\",\"title\":\"feature_correlation\"},\"id\":\"55402\",\"type\":\"Panel\"},{\"attributes\":{\"data\":{\"Pearson_correlation_with_Target\":{\"__ndarray__\":\"gMja87vNuL/qb7ZpU9KPPy+PFrt4jq4/6y3LKxwcsj9Mnoh1DiK4P9GJ8flF+r8/IMtBwDVHwT+FjX5aS1zBP0o3VT2MF8Q/56InOEJnzj8J9CMIY2rQP0ADg7F2wNQ/xGx/3p9f1j+2E9A1Z+/ZP2Kh4SiRT+M/QN6MIqAA7D9e1EuRMaTsP0LzyjRAA+4/pynhv4E17j8=\",\"dtype\":\"float64\",\"order\":\"little\",\"shape\":[19]},\"index\":[\"business_unit\",\"lock_status\",\"days_since_last_purchase\",\"first_time_customer\",\"order_type\",\"carrier\",\"brand\",\"quantity\",\"tgt_enc_sim_impt_functional_status\",\"tgt_enc_sim_impt_technology\",\"sales_person\",\"color\",\"channel\",\"condition\",\"memory_size\",\"unit_cost\",\"tgt_enc_sim_impt_platforms\",\"model_family\",\"sku\"]},\"selected\":{\"id\":\"55375\"},\"selection_policy\":{\"id\":\"55391\"}},\"id\":\"55374\",\"type\":\"ColumnDataSource\"},{\"attributes\":{\"source\":{\"id\":\"55374\"}},\"id\":\"55381\",\"type\":\"CDSView\"},{\"attributes\":{},\"id\":\"55355\",\"type\":\"BasicTicker\"},{\"attributes\":{},\"id\":\"55375\",\"type\":\"Selection\"},{\"attributes\":{\"margin\":[0,0,0,0],\"tabs\":[{\"id\":\"55402\"}]},\"id\":\"55341\",\"type\":\"Tabs\"},{\"attributes\":{\"overlay\":{\"id\":\"55366\"}},\"id\":\"55364\",\"type\":\"BoxZoomTool\"},{\"attributes\":{\"client_comm_id\":\"bb7ca2a05a6d477aaa39e7c967e6e86e\",\"comm_id\":\"87bce98911ed47deaf0b328cb6f3498f\",\"plot_id\":\"55341\"},\"id\":\"55427\",\"type\":\"panel.models.comm_manager.CommManager\"}],\"root_ids\":[\"55341\",\"55427\"]},\"title\":\"Bokeh Application\",\"version\":\"2.2.3\"}};\n",
       "  var render_items = [{\"docid\":\"3eb22f12-87a0-4903-82f3-327442ac465b\",\"root_ids\":[\"55341\"],\"roots\":{\"55341\":\"9cb3df45-a875-426d-900c-ac11eee8c22b\"}}];\n",
       "  root.Bokeh.embed.embed_items_notebook(docs_json, render_items);\n",
       "  }\n",
       "if (root.Bokeh !== undefined) {\n",
       "    embed_document(root);\n",
       "  } else {\n",
       "    var attempts = 0;\n",
       "    var timer = setInterval(function(root) {\n",
       "      if (root.Bokeh !== undefined) {\n",
       "        clearInterval(timer);\n",
       "        embed_document(root);\n",
       "      } else if (document.readyState == \"complete\") {\n",
       "        attempts++;\n",
       "        if (attempts > 100) {\n",
       "          clearInterval(timer);\n",
       "          console.log(\"Bokeh: ERROR: Unable to run BokehJS code because BokehJS library is missing\");\n",
       "        }\n",
       "      }\n",
       "    }, 10, root)\n",
       "  }\n",
       "})(window);</script>"
      ],
      "text/plain": [
       "Tabs\n",
       "    [0] HoloViews(Bars, name='feature_correlation')"
      ]
     },
     "execution_count": 23,
     "metadata": {
      "application/vnd.holoviews_exec.v0+json": {
       "id": "55341"
      }
     },
     "output_type": "execute_result"
    }
   ],
   "source": [
    "out = eda.get_target_correlation(train_X, train_y)\n",
    "display_as_tabs([(k, v) for k,v in out.items()])"
   ]
  },
  {
   "cell_type": "code",
   "execution_count": 24,
   "metadata": {},
   "outputs": [
    {
     "data": {},
     "metadata": {},
     "output_type": "display_data"
    },
    {
     "data": {},
     "metadata": {},
     "output_type": "display_data"
    },
    {
     "data": {
      "application/vnd.holoviews_exec.v0+json": "",
      "text/html": [
       "<div id='55468'>\n",
       "\n",
       "\n",
       "\n",
       "\n",
       "\n",
       "  <div class=\"bk-root\" id=\"92e127f3-6af9-4d57-ba8f-dc7081ccf99e\" data-root-id=\"55468\"></div>\n",
       "</div>\n",
       "<script type=\"application/javascript\">(function(root) {\n",
       "  function embed_document(root) {\n",
       "  var docs_json = {\"4eb7d903-5c99-4ee4-93e9-b21702b21907\":{\"roots\":{\"references\":[{\"attributes\":{},\"id\":\"55509\",\"type\":\"BasicTickFormatter\"},{\"attributes\":{\"factors\":[\"tgt_enc_sim_impt_functional_status\",\"color\",\"tgt_enc_sim_impt_technology\",\"tgt_enc_sim_impt_platforms\",\"days_since_last_purchase\",\"first_time_customer\",\"lock_status\",\"carrier\",\"quantity\",\"memory_size\",\"channel\",\"brand\",\"unit_cost\",\"sales_person\",\"order_type\",\"condition\",\"business_unit\",\"sku\",\"model_family\"],\"tags\":[[[\"index\",\"index\",null]]]},\"id\":\"55470\",\"type\":\"FactorRange\"},{\"attributes\":{\"data_source\":{\"id\":\"55501\"},\"glyph\":{\"id\":\"55504\"},\"hover_glyph\":null,\"muted_glyph\":{\"id\":\"55506\"},\"nonselection_glyph\":{\"id\":\"55505\"},\"selection_glyph\":null,\"view\":{\"id\":\"55508\"}},\"id\":\"55507\",\"type\":\"GlyphRenderer\"},{\"attributes\":{\"height\":655,\"margin\":[5,5,5,5],\"name\":\"shap_values\",\"text\":\"&lt;img src=&quot;data:image/png;base64,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&quot; width=&quot;576px&quot; height=&quot;655px&quot; alt=&quot;&quot;&gt;&lt;/img&gt;\",\"width\":576},\"id\":\"55530\",\"type\":\"panel.models.markup.HTML\"},{\"attributes\":{\"fill_alpha\":{\"value\":0.2},\"fill_color\":{\"value\":\"#1f77b3\"},\"height\":{\"value\":0.8},\"line_alpha\":{\"value\":0.2},\"right\":{\"field\":\"importance\"},\"y\":{\"field\":\"index\"}},\"id\":\"55506\",\"type\":\"HBar\"},{\"attributes\":{\"fill_color\":{\"value\":\"#1f77b3\"},\"height\":{\"value\":0.8},\"right\":{\"field\":\"importance\"},\"y\":{\"field\":\"index\"}},\"id\":\"55504\",\"type\":\"HBar\"},{\"attributes\":{},\"id\":\"55489\",\"type\":\"PanTool\"},{\"attributes\":{\"data\":{\"importance\":{\"__ndarray__\":\"vZH2XE9rpsDcAhcWDQJ2wPPGMe+Fi23AAAAAAAAAAIAAAAAAAAAAAAAAAAAAAAAAAAAAAAAAAAAAAAAAAAAAgE1xJUZONj1A+oCnAuVJU0DW/MhbVu2YQHbyn4EdbKFAYbYvTLgJp0ClPINqhK2rQDK0FZz5xrBAInJKt3eDuUA1gd4na1m+QMXXANk6JMRA8tHzUchrykA=\",\"dtype\":\"float64\",\"order\":\"little\",\"shape\":[19]},\"index\":[\"tgt_enc_sim_impt_functional_status\",\"color\",\"tgt_enc_sim_impt_technology\",\"tgt_enc_sim_impt_platforms\",\"days_since_last_purchase\",\"first_time_customer\",\"lock_status\",\"carrier\",\"quantity\",\"memory_size\",\"channel\",\"brand\",\"unit_cost\",\"sales_person\",\"order_type\",\"condition\",\"business_unit\",\"sku\",\"model_family\"]},\"selected\":{\"id\":\"55502\"},\"selection_policy\":{\"id\":\"55518\"}},\"id\":\"55501\",\"type\":\"ColumnDataSource\"},{\"attributes\":{},\"id\":\"55488\",\"type\":\"SaveTool\"},{\"attributes\":{\"text\":\"Feature Importances from LassoCV\",\"text_color\":{\"value\":\"black\"},\"text_font_size\":{\"value\":\"12pt\"}},\"id\":\"55473\",\"type\":\"Title\"},{\"attributes\":{},\"id\":\"55511\",\"type\":\"CategoricalTickFormatter\"},{\"attributes\":{\"end\":15167.287001701157,\"reset_end\":15167.287001701157,\"reset_start\":-4509.377006839342,\"start\":-4509.377006839342,\"tags\":[[[\"importance\",\"importance\",null]]]},\"id\":\"55469\",\"type\":\"Range1d\"},{\"attributes\":{\"bottom_units\":\"screen\",\"fill_alpha\":0.5,\"fill_color\":\"lightgrey\",\"left_units\":\"screen\",\"level\":\"overlay\",\"line_alpha\":1.0,\"line_color\":\"black\",\"line_dash\":[4,4],\"line_width\":2,\"right_units\":\"screen\",\"top_units\":\"screen\"},\"id\":\"55493\",\"type\":\"BoxAnnotation\"},{\"attributes\":{\"child\":{\"id\":\"55530\"},\"name\":\"shap_values\",\"title\":\"shap_values\"},\"id\":\"55531\",\"type\":\"Panel\"},{\"attributes\":{},\"id\":\"55502\",\"type\":\"Selection\"},{\"attributes\":{\"axis_label\":\"Features\",\"bounds\":\"auto\",\"formatter\":{\"id\":\"55511\"},\"major_label_orientation\":\"horizontal\",\"ticker\":{\"id\":\"55486\"}},\"id\":\"55485\",\"type\":\"CategoricalAxis\"},{\"attributes\":{\"child\":{\"id\":\"55472\"},\"name\":\"from_model\",\"title\":\"from_model\"},\"id\":\"55529\",\"type\":\"Panel\"},{\"attributes\":{\"active_drag\":\"auto\",\"active_inspect\":\"auto\",\"active_multi\":null,\"active_scroll\":\"auto\",\"active_tap\":\"auto\",\"tools\":[{\"id\":\"55471\"},{\"id\":\"55488\"},{\"id\":\"55489\"},{\"id\":\"55490\"},{\"id\":\"55491\"},{\"id\":\"55492\"}]},\"id\":\"55494\",\"type\":\"Toolbar\"},{\"attributes\":{},\"id\":\"55486\",\"type\":\"CategoricalTicker\"},{\"attributes\":{},\"id\":\"55518\",\"type\":\"UnionRenderers\"},{\"attributes\":{},\"id\":\"55477\",\"type\":\"LinearScale\"},{\"attributes\":{\"axis\":{\"id\":\"55485\"},\"dimension\":1,\"grid_line_color\":null,\"ticker\":null},\"id\":\"55487\",\"type\":\"Grid\"},{\"attributes\":{},\"id\":\"55492\",\"type\":\"ResetTool\"},{\"attributes\":{},\"id\":\"55482\",\"type\":\"BasicTicker\"},{\"attributes\":{\"client_comm_id\":\"1275cbf1968147a083259aa50a29c1c8\",\"comm_id\":\"37574e133fbc47b6aa13add0d7ecca98\",\"plot_id\":\"55468\"},\"id\":\"55556\",\"type\":\"panel.models.comm_manager.CommManager\"},{\"attributes\":{\"margin\":[0,0,0,0],\"tabs\":[{\"id\":\"55529\"},{\"id\":\"55531\"}]},\"id\":\"55468\",\"type\":\"Tabs\"},{\"attributes\":{\"fill_alpha\":{\"value\":0.1},\"fill_color\":{\"value\":\"#1f77b3\"},\"height\":{\"value\":0.8},\"line_alpha\":{\"value\":0.1},\"right\":{\"field\":\"importance\"},\"y\":{\"field\":\"index\"}},\"id\":\"55505\",\"type\":\"HBar\"},{\"attributes\":{\"callback\":null,\"renderers\":[{\"id\":\"55507\"}],\"tags\":[\"hv_created\"],\"tooltips\":[[\"index\",\"@{index}\"],[\"importance\",\"@{importance}\"]]},\"id\":\"55471\",\"type\":\"HoverTool\"},{\"attributes\":{\"align\":null,\"below\":[{\"id\":\"55481\"}],\"center\":[{\"id\":\"55484\"},{\"id\":\"55487\"}],\"left\":[{\"id\":\"55485\"}],\"margin\":null,\"min_border_bottom\":10,\"min_border_left\":10,\"min_border_right\":10,\"min_border_top\":10,\"plot_height\":300,\"plot_width\":700,\"renderers\":[{\"id\":\"55507\"}],\"sizing_mode\":\"fixed\",\"title\":{\"id\":\"55473\"},\"toolbar\":{\"id\":\"55494\"},\"x_range\":{\"id\":\"55469\"},\"x_scale\":{\"id\":\"55477\"},\"y_range\":{\"id\":\"55470\"},\"y_scale\":{\"id\":\"55479\"}},\"id\":\"55472\",\"subtype\":\"Figure\",\"type\":\"Plot\"},{\"attributes\":{},\"id\":\"55490\",\"type\":\"WheelZoomTool\"},{\"attributes\":{\"source\":{\"id\":\"55501\"}},\"id\":\"55508\",\"type\":\"CDSView\"},{\"attributes\":{\"overlay\":{\"id\":\"55493\"}},\"id\":\"55491\",\"type\":\"BoxZoomTool\"},{\"attributes\":{\"axis_label\":\"Feature Importance [determined by coeff * mean(x)]\",\"bounds\":\"auto\",\"formatter\":{\"id\":\"55509\"},\"major_label_orientation\":\"horizontal\",\"ticker\":{\"id\":\"55482\"}},\"id\":\"55481\",\"type\":\"LinearAxis\"},{\"attributes\":{},\"id\":\"55479\",\"type\":\"CategoricalScale\"},{\"attributes\":{\"axis\":{\"id\":\"55481\"},\"grid_line_color\":null,\"ticker\":null},\"id\":\"55484\",\"type\":\"Grid\"}],\"root_ids\":[\"55468\",\"55556\"]},\"title\":\"Bokeh Application\",\"version\":\"2.2.3\"}};\n",
       "  var render_items = [{\"docid\":\"4eb7d903-5c99-4ee4-93e9-b21702b21907\",\"root_ids\":[\"55468\"],\"roots\":{\"55468\":\"92e127f3-6af9-4d57-ba8f-dc7081ccf99e\"}}];\n",
       "  root.Bokeh.embed.embed_items_notebook(docs_json, render_items);\n",
       "  }\n",
       "if (root.Bokeh !== undefined) {\n",
       "    embed_document(root);\n",
       "  } else {\n",
       "    var attempts = 0;\n",
       "    var timer = setInterval(function(root) {\n",
       "      if (root.Bokeh !== undefined) {\n",
       "        clearInterval(timer);\n",
       "        embed_document(root);\n",
       "      } else if (document.readyState == \"complete\") {\n",
       "        attempts++;\n",
       "        if (attempts > 100) {\n",
       "          clearInterval(timer);\n",
       "          console.log(\"Bokeh: ERROR: Unable to run BokehJS code because BokehJS library is missing\");\n",
       "        }\n",
       "      }\n",
       "    }, 10, root)\n",
       "  }\n",
       "})(window);</script>"
      ],
      "text/plain": [
       "Tabs\n",
       "    [0] HoloViews(Bars, name='from_model')\n",
       "    [1] Matplotlib(Figure, name='shap_values')"
      ]
     },
     "execution_count": 24,
     "metadata": {
      "application/vnd.holoviews_exec.v0+json": {
       "id": "55468"
      }
     },
     "output_type": "execute_result"
    }
   ],
   "source": [
    "out = eda.get_feature_importances(train_X, train_y)\n",
    "display_as_tabs([(k, v) for k,v in out.items()])"
   ]
  },
  {
   "cell_type": "markdown",
   "metadata": {},
   "source": [
    "Key drivers report like feature importance, bivariate plots can be obtained as below"
   ]
  },
  {
   "cell_type": "code",
   "execution_count": 25,
   "metadata": {},
   "outputs": [],
   "source": [
    "reports.key_drivers(train_X,train_y,'./key_drivers_report.html')"
   ]
  },
  {
   "cell_type": "markdown",
   "metadata": {},
   "source": [
    "**Dev Notes**\n",
    "<details>\n",
    "    \n",
    "- The SHAP plots and bivariate plots in key drivers reports can be obtained by including quick=False as a parameter to key_drivers function call. \n",
    "- SHAP plots and bivariate plots often take long depending on data shape.\n",
    "- The plot with shap is present [here](https://drive.google.com/file/d/1JOTMBLiv3LEqZ-kxZz0RokW9v5UyiGva/view?usp=sharing)\n",
    "\n",
    "</details>"
   ]
  },
  {
   "cell_type": "markdown",
   "metadata": {},
   "source": [
    "\n",
    "All the plots like feature analysis, interaction, key drivers can be obtained as a single plot using data exploration method as shown below. The output from this is available [here](https://drive.google.com/file/d/1_3rE5u3qFHdeoL3VrFNTG-aBtHFALnI7/view?usp=sharing)"
   ]
  },
  {
   "cell_type": "code",
   "execution_count": 26,
   "metadata": {},
   "outputs": [
    {
     "name": "stderr",
     "output_type": "stream",
     "text": [
      "p-value may not be accurate for N > 5000.\n"
     ]
    }
   ],
   "source": [
    "reports.data_exploration(train_X,train_y,'./data_exploration_report.html')"
   ]
  },
  {
   "cell_type": "code",
   "execution_count": 27,
   "metadata": {},
   "outputs": [],
   "source": [
    "# saving the list of relevant columns\n",
    "save_pipeline(curated_columns, op.abspath(op.join(artifacts_folder, 'curated_columns.joblib')))\n",
    "\n",
    "# save the feature pipeline\n",
    "save_pipeline(features_transformer, op.abspath(op.join(artifacts_folder, 'features.joblib')))"
   ]
  },
  {
   "cell_type": "markdown",
   "metadata": {},
   "source": [
    "# 4 Modelling"
   ]
  },
  {
   "cell_type": "markdown",
   "metadata": {},
   "source": [
    "## 4.1 Modelling - Linear Regression"
   ]
  },
  {
   "cell_type": "markdown",
   "metadata": {},
   "source": [
    "### 4.1.1 Feature Selection(Specific to Regression)\n",
    "\n",
    "- Selecting Features specific to regression\n",
    "- VIF : measure of the amount of multi-collinearity in a set of multiple regressor variables. \n",
    "- On a case to case basis VIF thresholds change. Generally 5 or 10 are acceptable levels.\n",
    "- Usually on a recursive basis when removing the most collinear variable, there can be shuffle in VIF. \n",
    "- Often this section will not be part of the production code."
   ]
  },
  {
   "cell_type": "code",
   "execution_count": 28,
   "metadata": {},
   "outputs": [],
   "source": [
    "cols = list(train_X.columns)\n",
    "vif = eda.calc_vif(train_X)\n",
    "while max(vif.VIF) > 15:\n",
    "    #removing the largest variable from VIF\n",
    "    cols.remove(vif[(vif.VIF==vif.VIF.max())].variables.tolist()[0])\n",
    "    vif = eda.calc_vif(train_X[cols])"
   ]
  },
  {
   "cell_type": "code",
   "execution_count": 29,
   "metadata": {},
   "outputs": [],
   "source": [
    "reg_vars = vif.query('VIF < 15').variables\n",
    "reg_vars = list(reg_vars)"
   ]
  },
  {
   "cell_type": "markdown",
   "metadata": {},
   "source": [
    "### 4.1.2 Data transformations"
   ]
  },
  {
   "cell_type": "code",
   "execution_count": 30,
   "metadata": {},
   "outputs": [],
   "source": [
    "# Custom Transformations like these can be utilised\n",
    "def _custom_data_transform(df, cols2keep=None):\n",
    "    \"\"\"Transformation to drop some columns in the data\n",
    "    \n",
    "    Parameters\n",
    "    ----------\n",
    "        df - pd.DataFrame\n",
    "        cols2keep - columns to keep in the dataframe\n",
    "    \"\"\"\n",
    "    cols2keep = cols2keep or []\n",
    "    if len(cols2keep):\n",
    "        return (df\n",
    "                .select_columns(cols2keep))\n",
    "    else:\n",
    "        return df"
   ]
  },
  {
   "cell_type": "markdown",
   "metadata": {},
   "source": [
    "### 4.1.3 Model training pipeline\n",
    "\n",
    "- Here we focus on creating a collection of pipelines that can be used for training respective models.\n",
    "- Each model pipeline will essentially be of the form\n",
    "```\n",
    "[\n",
    "('preprocessing', preprocessing_pipeline),\n",
    "('feature_selection', feature_selection_pipeline),\n",
    "('estimator', estimator),\n",
    "]\n",
    "```"
   ]
  },
  {
   "cell_type": "markdown",
   "metadata": {},
   "source": [
    "### 4.1.4 Model Pipeline Build\n",
    "\n",
    "- This will be part of the production code (training only)."
   ]
  },
  {
   "cell_type": "code",
   "execution_count": 31,
   "metadata": {},
   "outputs": [
    {
     "data": {
      "text/plain": [
       "Pipeline(steps=[('',\n",
       "                 FunctionTransformer(func=<function _custom_data_transform at 0x0000021C994BB310>,\n",
       "                                     kw_args={'cols2keep': ['quantity',\n",
       "                                                            'tgt_enc_sim_impt_platforms',\n",
       "                                                            'channel',\n",
       "                                                            'memory_size',\n",
       "                                                            'color',\n",
       "                                                            'condition',\n",
       "                                                            'unit_cost',\n",
       "                                                            'days_since_last_purchase',\n",
       "                                                            'first_time_customer']})),\n",
       "                ('estimator', SKLStatsmodelOLS())])"
      ]
     },
     "execution_count": 31,
     "metadata": {},
     "output_type": "execute_result"
    }
   ],
   "source": [
    "reg_ppln_ols = Pipeline([\n",
    "    ('',FunctionTransformer(_custom_data_transform, kw_args={'cols2keep':reg_vars})),\n",
    "    ('estimator', SKLStatsmodelOLS())\n",
    "])\n",
    "reg_ppln_ols.fit(train_X, train_y.values.ravel())\n"
   ]
  },
  {
   "cell_type": "code",
   "execution_count": 32,
   "metadata": {},
   "outputs": [
    {
     "data": {
      "text/html": [
       "<table class=\"simpletable\">\n",
       "<caption>OLS Regression Results</caption>\n",
       "<tr>\n",
       "  <th>Dep. Variable:</th>            <td>y</td>        <th>  R-squared:         </th>  <td>   0.886</td>  \n",
       "</tr>\n",
       "<tr>\n",
       "  <th>Model:</th>                   <td>OLS</td>       <th>  Adj. R-squared:    </th>  <td>   0.886</td>  \n",
       "</tr>\n",
       "<tr>\n",
       "  <th>Method:</th>             <td>Least Squares</td>  <th>  F-statistic:       </th>  <td>1.205e+05</td> \n",
       "</tr>\n",
       "<tr>\n",
       "  <th>Date:</th>             <td>Mon, 23 May 2022</td> <th>  Prob (F-statistic):</th>   <td>  0.00</td>   \n",
       "</tr>\n",
       "<tr>\n",
       "  <th>Time:</th>                 <td>20:26:25</td>     <th>  Log-Likelihood:    </th> <td>-7.0722e+05</td>\n",
       "</tr>\n",
       "<tr>\n",
       "  <th>No. Observations:</th>      <td>139847</td>      <th>  AIC:               </th>  <td>1.414e+06</td> \n",
       "</tr>\n",
       "<tr>\n",
       "  <th>Df Residuals:</th>          <td>139837</td>      <th>  BIC:               </th>  <td>1.415e+06</td> \n",
       "</tr>\n",
       "<tr>\n",
       "  <th>Df Model:</th>              <td>     9</td>      <th>                     </th>      <td> </td>     \n",
       "</tr>\n",
       "<tr>\n",
       "  <th>Covariance Type:</th>      <td>nonrobust</td>    <th>                     </th>      <td> </td>     \n",
       "</tr>\n",
       "</table>\n",
       "<table class=\"simpletable\">\n",
       "<tr>\n",
       "               <td></td>                 <th>coef</th>     <th>std err</th>      <th>t</th>      <th>P>|t|</th>  <th>[0.025</th>    <th>0.975]</th>  \n",
       "</tr>\n",
       "<tr>\n",
       "  <th>intercept</th>                  <td>  -66.3761</td> <td>    0.572</td> <td> -115.969</td> <td> 0.000</td> <td>  -67.498</td> <td>  -65.254</td>\n",
       "</tr>\n",
       "<tr>\n",
       "  <th>quantity</th>                   <td>   -0.0194</td> <td>    0.003</td> <td>   -7.185</td> <td> 0.000</td> <td>   -0.025</td> <td>   -0.014</td>\n",
       "</tr>\n",
       "<tr>\n",
       "  <th>tgt_enc_sim_impt_platforms</th> <td>    0.6001</td> <td>    0.002</td> <td>  329.282</td> <td> 0.000</td> <td>    0.597</td> <td>    0.604</td>\n",
       "</tr>\n",
       "<tr>\n",
       "  <th>channel</th>                    <td>    0.0132</td> <td>    0.003</td> <td>    4.434</td> <td> 0.000</td> <td>    0.007</td> <td>    0.019</td>\n",
       "</tr>\n",
       "<tr>\n",
       "  <th>memory_size</th>                <td>    0.1998</td> <td>    0.002</td> <td>  109.493</td> <td> 0.000</td> <td>    0.196</td> <td>    0.203</td>\n",
       "</tr>\n",
       "<tr>\n",
       "  <th>color</th>                      <td>    0.0250</td> <td>    0.003</td> <td>    8.402</td> <td> 0.000</td> <td>    0.019</td> <td>    0.031</td>\n",
       "</tr>\n",
       "<tr>\n",
       "  <th>condition</th>                  <td>    0.3240</td> <td>    0.003</td> <td>  129.527</td> <td> 0.000</td> <td>    0.319</td> <td>    0.329</td>\n",
       "</tr>\n",
       "<tr>\n",
       "  <th>unit_cost</th>                  <td>    0.4018</td> <td>    0.002</td> <td>  176.480</td> <td> 0.000</td> <td>    0.397</td> <td>    0.406</td>\n",
       "</tr>\n",
       "<tr>\n",
       "  <th>days_since_last_purchase</th>   <td>    3.2135</td> <td>    0.167</td> <td>   19.196</td> <td> 0.000</td> <td>    2.885</td> <td>    3.542</td>\n",
       "</tr>\n",
       "<tr>\n",
       "  <th>first_time_customer</th>        <td>   34.4677</td> <td>    1.085</td> <td>   31.776</td> <td> 0.000</td> <td>   32.342</td> <td>   36.594</td>\n",
       "</tr>\n",
       "</table>\n",
       "<table class=\"simpletable\">\n",
       "<tr>\n",
       "  <th>Omnibus:</th>       <td>39538.100</td> <th>  Durbin-Watson:     </th>  <td>   2.006</td>  \n",
       "</tr>\n",
       "<tr>\n",
       "  <th>Prob(Omnibus):</th>  <td> 0.000</td>   <th>  Jarque-Bera (JB):  </th> <td>2386838.883</td>\n",
       "</tr>\n",
       "<tr>\n",
       "  <th>Skew:</th>           <td> 0.513</td>   <th>  Prob(JB):          </th>  <td>    0.00</td>  \n",
       "</tr>\n",
       "<tr>\n",
       "  <th>Kurtosis:</th>       <td>23.213</td>   <th>  Cond. No.          </th>  <td>3.63e+03</td>  \n",
       "</tr>\n",
       "</table><br/><br/>Warnings:<br/>[1] Standard Errors assume that the covariance matrix of the errors is correctly specified.<br/>[2] The condition number is large, 3.63e+03. This might indicate that there are<br/>strong multicollinearity or other numerical problems."
      ],
      "text/plain": [
       "<class 'statsmodels.iolib.summary.Summary'>\n",
       "\"\"\"\n",
       "                            OLS Regression Results                            \n",
       "==============================================================================\n",
       "Dep. Variable:                      y   R-squared:                       0.886\n",
       "Model:                            OLS   Adj. R-squared:                  0.886\n",
       "Method:                 Least Squares   F-statistic:                 1.205e+05\n",
       "Date:                Mon, 23 May 2022   Prob (F-statistic):               0.00\n",
       "Time:                        20:26:25   Log-Likelihood:            -7.0722e+05\n",
       "No. Observations:              139847   AIC:                         1.414e+06\n",
       "Df Residuals:                  139837   BIC:                         1.415e+06\n",
       "Df Model:                           9                                         \n",
       "Covariance Type:            nonrobust                                         \n",
       "==============================================================================================\n",
       "                                 coef    std err          t      P>|t|      [0.025      0.975]\n",
       "----------------------------------------------------------------------------------------------\n",
       "intercept                    -66.3761      0.572   -115.969      0.000     -67.498     -65.254\n",
       "quantity                      -0.0194      0.003     -7.185      0.000      -0.025      -0.014\n",
       "tgt_enc_sim_impt_platforms     0.6001      0.002    329.282      0.000       0.597       0.604\n",
       "channel                        0.0132      0.003      4.434      0.000       0.007       0.019\n",
       "memory_size                    0.1998      0.002    109.493      0.000       0.196       0.203\n",
       "color                          0.0250      0.003      8.402      0.000       0.019       0.031\n",
       "condition                      0.3240      0.003    129.527      0.000       0.319       0.329\n",
       "unit_cost                      0.4018      0.002    176.480      0.000       0.397       0.406\n",
       "days_since_last_purchase       3.2135      0.167     19.196      0.000       2.885       3.542\n",
       "first_time_customer           34.4677      1.085     31.776      0.000      32.342      36.594\n",
       "==============================================================================\n",
       "Omnibus:                    39538.100   Durbin-Watson:                   2.006\n",
       "Prob(Omnibus):                  0.000   Jarque-Bera (JB):          2386838.883\n",
       "Skew:                           0.513   Prob(JB):                         0.00\n",
       "Kurtosis:                      23.213   Cond. No.                     3.63e+03\n",
       "==============================================================================\n",
       "\n",
       "Warnings:\n",
       "[1] Standard Errors assume that the covariance matrix of the errors is correctly specified.\n",
       "[2] The condition number is large, 3.63e+03. This might indicate that there are\n",
       "strong multicollinearity or other numerical problems.\n",
       "\"\"\""
      ]
     },
     "execution_count": 32,
     "metadata": {},
     "output_type": "execute_result"
    }
   ],
   "source": [
    "reg_ppln_ols['estimator'].summary()"
   ]
  },
  {
   "cell_type": "markdown",
   "metadata": {},
   "source": [
    "### 4.1.5 Model Evaluation(Linear Model)\n",
    "\n",
    "This will be part of the production code."
   ]
  },
  {
   "cell_type": "code",
   "execution_count": 33,
   "metadata": {},
   "outputs": [],
   "source": [
    "reg_ppln = Pipeline([\n",
    "    ('', FunctionTransformer(_custom_data_transform, kw_args={'cols2keep':reg_vars})),\n",
    "    ('Linear Regression', SKLStatsmodelOLS())\n",
    "])\n",
    "\n",
    "test_X = get_dataframe(\n",
    "    features_transformer.transform(test_X), \n",
    "    get_feature_names_from_column_transformer(features_transformer)\n",
    ")\n",
    "test_X = test_X[curated_columns]"
   ]
  },
  {
   "cell_type": "code",
   "execution_count": 34,
   "metadata": {},
   "outputs": [
    {
     "name": "stderr",
     "output_type": "stream",
     "text": [
      "Passing normed=False is deprecated, and has no effect. Consider passing the density argument instead.\n",
      "divide by zero encountered in true_divide\n",
      "2022-05-23 20:26:36 - WARNING - tigerml.model_eval.plotters.interpretation::get_errorbucket_profiles::847 - Residual Analysis: Ignoring 17 observations in train data for error analysis where y=0\n",
      "2022-05-23 20:26:36 - WARNING - tigerml.model_eval.plotters.interpretation::get_errorbucket_profiles::864 - Residual Analysis: Ignoring 7 observations in test data for error analysis where y=0\n"
     ]
    }
   ],
   "source": [
    "reg_linear_report = RegressionReport(model=reg_ppln, x_train=train_X, y_train=train_y, x_test= test_X, y_test= test_y, refit=True)\n",
    "reg_linear_report.get_report(include_shap=False, file_path='regression_linear_model_report')"
   ]
  },
  {
   "cell_type": "markdown",
   "metadata": {},
   "source": [
    "**Dev Notes**\n",
    "Use SHAP for variable interpretability.\n",
    "<details>\n",
    "\n",
    "    1. Use SHAP=True to generate variable interpretability plots in the report\n",
    "    2. SHAP is recommended for non parameteric models such as RF, xgboost.\n",
    "    3. However, SHAP reports are time consuming depending on no.of records and model complexity.\n",
    "    \n",
    "A sample of regerssion report with SHAP can be found [here](https://drive.google.com/file/d/18RlQTsT1ze09Cgz-qpb4ha_cvyWbN5F5/view?usp=sharing).\n",
    "</details>"
   ]
  },
  {
   "cell_type": "markdown",
   "metadata": {},
   "source": [
    "### 4.1.6 Residual Analysis\n",
    "- After scoring the model, it is recommended to do a residual analysis to know the distribution of errors\n",
    "- we took a threshold of 30% above which it is marked as over prediction or underprediction\n",
    "- This will not be part of the production code."
   ]
  },
  {
   "cell_type": "code",
   "execution_count": 35,
   "metadata": {},
   "outputs": [],
   "source": [
    "threshold=0.3\n",
    "residual_analysis = test_X.copy()\n",
    "residual_analysis['prediction'] = reg_ppln_ols.predict(test_X)\n",
    "residual_analysis['actuals'] = test_y.reset_index(drop = True).iloc[:,0].values\n",
    "residual_analysis['forecast_flag'] = 'good'\n",
    "residual_analysis.loc[((residual_analysis['prediction'] > (1+threshold) * residual_analysis['actuals'])\\\n",
    "                       & (residual_analysis['actuals']>100)),'forecast_flag'] = 'over predict'\n",
    "residual_analysis.loc[((residual_analysis['prediction'] < (1-threshold) * residual_analysis['actuals'])\\\n",
    "                       & (residual_analysis['actuals']>100)),'forecast_flag'] = 'under predict'"
   ]
  },
  {
   "cell_type": "code",
   "execution_count": 36,
   "metadata": {},
   "outputs": [
    {
     "data": {},
     "metadata": {},
     "output_type": "display_data"
    },
    {
     "data": {
      "application/vnd.holoviews_exec.v0+json": "",
      "text/html": [
       "<div id='90793'>\n",
       "\n",
       "\n",
       "\n",
       "\n",
       "\n",
       "  <div class=\"bk-root\" id=\"301e9d9b-39e9-4c21-935a-5ecf0a257cc3\" data-root-id=\"90793\"></div>\n",
       "</div>\n",
       "<script type=\"application/javascript\">(function(root) {\n",
       "  function embed_document(root) {\n",
       "  var docs_json = {\"3c1bb2d2-fd03-47e1-bcf1-c27e36334979\":{\"roots\":{\"references\":[{\"attributes\":{\"fill_alpha\":0.5,\"fill_color\":\"#ff7e0e\",\"line_alpha\":0.7,\"x\":{\"field\":\"x\"},\"y\":{\"field\":\"y\"}},\"id\":\"90855\",\"type\":\"Patch\"},{\"attributes\":{},\"id\":\"90818\",\"type\":\"PanTool\"},{\"attributes\":{\"children\":[{\"id\":\"90794\"},{\"id\":\"90800\"},{\"id\":\"91000\"}],\"margin\":[0,0,0,0],\"name\":\"Row245365\",\"tags\":[\"embedded\"]},\"id\":\"90793\",\"type\":\"Row\"},{\"attributes\":{},\"id\":\"90832\",\"type\":\"BasicTickFormatter\"},{\"attributes\":{\"axis\":{\"id\":\"90813\"},\"dimension\":1,\"grid_line_color\":null,\"ticker\":null},\"id\":\"90816\",\"type\":\"Grid\"},{\"attributes\":{\"data\":{\"x\":{\"__ndarray__\":\"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\",\"dtype\":\"float64\",\"order\":\"little\",\"shape\":[200]},\"y\":{\"__ndarray__\":\"AAAAAAAAAAAAAAAAAAAAAAAAAAAAAAAAAAAAAAAAAAAAAAAAAAAAAAAAAAAAAAAAAAAAAAAAAAAAAAAAAAAAAAAAAAAAAAAAAAAAAAAAAAAAAAAAAAAAAAAAAAAAAAAAAAAAAAAAAAAAAAAAAAAAAAAAAAAAAAAAAAAAAAAAAAAAAAAAAAAAAAAAAAAAAAAAAAAAAAAAAAAAAAAAAAAAAAAAAAAAAAAAAAAAAAAAAAAAAAAAAAAAAAAAAAAAAAAAAAAAAAAAAAAAAAAAAAAAAAAAAAAAAAAAAAAAAAAAAAAAAAAAAAAAAAAAAAAAAAAAAAAAAAAAAAAAAAAAAAAAAAAAAAAAAAAAAAAAAAAAAAAAAAAAAAAAAAAAAAAAAAAAAAAAAAAAAAAAAAAAAAAAAAAAAAAAAAAAAAAAAAAAAAAAAAAAAAAAAAAAAAAAAAAAAAAAAAAAAAAAAAAAAAAAAAAAAAAAAAAAAAAAAAAAAAAAAAAAAAAAAAAAAAAAAAAAAAAAAAAAAAAAAAAAAAAAAAAAAAAAAAAAAAAAAAAAAAAAAAAAAAAAAAAAAAAAAAAAAAAAAAAAAAAAAAAAAAAAAAAAAAAAAAAAAAAAAAAAAAAAAAAAAAAAAAAAAAAAAAAAAAAAAAAAAAAAAAAAAAAAAAAAAAAAAAAAAAAAAAAAAAAAAAAAAAAAAAAAAAAAAAAAAAAAAAAAAAAAAAAAAAAAAAAAAAAAAAAAAAAAAAAAAAAAAAAAAAAAAAAAAAAAAAAAAAAAAAAAAAAAAAAAAAAAAAAAAAAAAAAAAAAAAAAAAAAAAAAAAAAAAAAAAAAAAAAAAAAAAAAAAAAAAAAAAAAAAAAAAAAAAAAAAAAAAAAAAAAAAAAAAAAAAAAAAAAAAAAAAAAAAAAAAAAAAAAAAAAAAAAAAAAAAAAAAAAAAAAAAAAAAAAAAAAAAAAAAAAAAAAAAAAAAAAAAAAAAAAAAAAAAAAAAAAAAAAAAAAAAAAAAAAAAAAAAAAAAAAAAAAAAAAAAAAAAAAAAAAAAAAAAAAAAAAAAAAAAAAAAAAAAAAAAADsNdYDF8hzPk6mUhzWGLU+WoZV67iP1j7Yi8MdhDHYPgHVSDiwA7o+IAWVfIYMfD6+9iDnQlMePjnIDR4ecKA9icD3pYneAT3iKShqdXpDPHb3I9ZUSmU7s1WooaRVZzrkUWd0GaVJOeFiZGvXQgw4vDUfT7Q6rzYhh/1WQ00xNWbCukRCOZMzphcmbtpq1TF9SED9O+33L6vQcNmVzfotojCWm3gb3ivbF2UMp/SgKfeGbgl1JkMnQD5Y1xywxST2T39SDKEoInGdgmWqC2wfndgBqfoCkBykFKERIlWSGeOxAckZDHUWuS92V+Q6OBNfVHgfa/jbD5NXcT4tMGAM8lsMvxjKwgi6viv/SN4FBbI2yJ1whSkBPAAAAAAAAAAAAAAAAAAAAAAAAAAAAAAAAAAAAAAAAAAAAAAAAAAAAAAAAAAAAAAAAAAAAAAAAAAAAAAAAAAAAAAAAAAAAAAAAAAAAAAAAAAAAAAAAAAAAAAAAAAAAAAAywAAAAAAAABEYnko+uVEARHcLSxsPiEFCh0GpNqI3Ag/3zAtc6x3DABLhJjHsfMPEQOymMxtUBMOxUaiDHyLFhfs8qaIDacZFvwy0HtjoxzTES0H81mAHy/razC8pzsiPQfW6WBz1ySc+2jRlPBTJ3kjN6w2ALEpLyphysMR7SseytJPqOsILnyCgKoWbAUw3rWMZSB34jGJJXW3kuufM8+bc+Y5qjs1z696RuEKuDZar7pulfMUOIMYCkjMTlI5Ug7LfpsKcDpKJVkJKjBsO5ygCnyI1Ug8hpq2m57wBT0NTT1ay3CjPcnsjbq3SyE+ag3lgYkVfz7Jz4Zn6CG9Pm/CUI5NkuA+5bMPXgGd8T53qA5msa/5PizE+AFJofs+qiP7+3l7+j4B77EyiIwFP0QUWINJPAs/nJPOIxrWBz/Qs0ePUJISP/8apNHhaCs/TghgwY4KQT9cVAT3gHhIP9LzAfrCC0w/2xc1KaTMVT/5uEUqxF1lPxWYN+s1t3E/6cLNBfADbD/ppmCF4stQP/wcZSVVPB8/YGp6U00I3j64hTrLOA6RPg==\",\"dtype\":\"float64\",\"order\":\"little\",\"shape\":[200]}},\"selected\":{\"id\":\"90853\"},\"selection_policy\":{\"id\":\"90867\"}},\"id\":\"90852\",\"type\":\"ColumnDataSource\"},{\"attributes\":{},\"id\":\"90888\",\"type\":\"UnionRenderers\"},{\"attributes\":{\"text\":\"unit cost(density)\",\"text_color\":{\"value\":\"black\"},\"text_font_size\":{\"value\":\"12pt\"}},\"id\":\"90801\",\"type\":\"Title\"},{\"attributes\":{\"axis\":{\"id\":\"90809\"},\"grid_line_color\":null,\"ticker\":null},\"id\":\"90812\",\"type\":\"Grid\"},{\"attributes\":{\"label\":{\"value\":\"good\"},\"renderers\":[{\"id\":\"90840\"}]},\"id\":\"90851\",\"type\":\"LegendItem\"},{\"attributes\":{\"data_source\":{\"id\":\"90871\"},\"glyph\":{\"id\":\"90874\"},\"hover_glyph\":null,\"muted_glyph\":{\"id\":\"90876\"},\"nonselection_glyph\":{\"id\":\"90875\"},\"selection_glyph\":null,\"view\":{\"id\":\"90878\"}},\"id\":\"90877\",\"type\":\"GlyphRenderer\"},{\"attributes\":{},\"id\":\"90814\",\"type\":\"BasicTicker\"},{\"attributes\":{},\"id\":\"90817\",\"type\":\"SaveTool\"},{\"attributes\":{},\"id\":\"90835\",\"type\":\"Selection\"},{\"attributes\":{\"fill_alpha\":0.5,\"fill_color\":\"#1f77b3\",\"line_alpha\":0.7,\"x\":{\"field\":\"x\"},\"y\":{\"field\":\"y\"}},\"id\":\"90837\",\"type\":\"Patch\"},{\"attributes\":{},\"id\":\"90807\",\"type\":\"LinearScale\"},{\"attributes\":{\"click_policy\":\"mute\",\"items\":[{\"id\":\"90851\"},{\"id\":\"90870\"},{\"id\":\"90891\"}],\"title\":\"forecast_flag\"},\"id\":\"90850\",\"type\":\"Legend\"},{\"attributes\":{\"active_drag\":\"auto\",\"active_inspect\":\"auto\",\"active_multi\":null,\"active_scroll\":\"auto\",\"active_tap\":\"auto\",\"tools\":[{\"id\":\"90797\"},{\"id\":\"90817\"},{\"id\":\"90818\"},{\"id\":\"90819\"},{\"id\":\"90820\"},{\"id\":\"90821\"}]},\"id\":\"90823\",\"type\":\"Toolbar\"},{\"attributes\":{\"data_source\":{\"id\":\"90834\"},\"glyph\":{\"id\":\"90837\"},\"hover_glyph\":null,\"muted_glyph\":{\"id\":\"90839\"},\"nonselection_glyph\":{\"id\":\"90838\"},\"selection_glyph\":null,\"view\":{\"id\":\"90841\"}},\"id\":\"90840\",\"type\":\"GlyphRenderer\"},{\"attributes\":{\"fill_alpha\":0.2,\"fill_color\":\"#1f77b3\",\"line_alpha\":0.2,\"x\":{\"field\":\"x\"},\"y\":{\"field\":\"y\"}},\"id\":\"90839\",\"type\":\"Patch\"},{\"attributes\":{\"data\":{\"x\":{\"__ndarray__\":\"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\",\"dtype\":\"float64\",\"order\":\"little\",\"shape\":[200]},\"y\":{\"__ndarray__\":\"AAAAAAAAAAAAAAAAAAAAAAAAAAAAAAAAAAAAAAAAAAAAAAAAAAAAAAAAAAAAAAAAAAAAAAAAAAAAAAAAAAAAAAAAAAAAAAAAAAAAAAAAAAAAAAAAAAAAAAAAAAAAAAAAAAAAAAAAAAAAAAAAAAAAAAAAAAAAAAAAAAAAAAAAAAAAAAAAAAAAAAAAAAAAAAAAAAAAAAAAAAAAAAAAAAAAAAAAAAAAAAAAAAAAAAAAAAAAAAAAAAAAAAAAAAAAAAAAAAAAAAAAAAAAAAAAAAAAAAAAAAAAAAAAAAAAAAAAAAAAAAAAAAAAAAAAAAAAAAAAAAAAAAAAAAAAAAAAAAAAAAAAAAAAAAAAAAAAAAAAAAAAAAAAAAAAAAAAAAAAAAAAAAAAAAAAAAAAAAAAAAAAAAAAAAAAAAAAAAAAAAAAAAAAAAAAAAAAAAAAAAAAAAAAAAAAAAAAAAAAAAAAAAAAAAAAAAAAAAAAAAAAAAAAAAAAAAAAAAAAAAAAAAAAAAAAAAAAAAAAAAAAAAAAAAAAAAAAAAAAAAAAAAAAAAAAAAAAAAAAAAAAAAAAAAAAAAAAAAAAAAAAAAAAAAAAAAAAAAAAAAAAAAAAAAAAAAAAAAAAAAAAAAAAAAAAAAAAAAAAAAAAAAAAAAAAAAAAAAAAAAAAAAAAAAAAAAAAAAAAAAAAAAAAAAAAAAAAAAAAAAAAAAAAAAAAAAAAAAAAAAAAAAAAAAAAAAAAAAAAAAAAAAAAAAAAAAAAAAAAAAAAAAAAAAAAAAAAAAAAAAAAAAAAAAAAAAAAAAAAAAAAAAAAAAAAAAAAAAAAAAAAAAAAAAAAAAAAAAAAAAAAAAAAAAAAAAAAAAAAAAAAAAAAAAAAAAAAAAAAAAAAAAAAAAAAAAAAAAAAAAAAAAAAAAAAAAAAAAAAAAAAAAAAAAAAAAAAAAAAAAAAAAAAAAAAAAAAAAAAAAAAAAAAAAAAAAAAAAAAAAAAAAAAAAAAAAAAAAAAAAAAAAAAAAAAAAAAAAAAAAAAAAAAAAAAAAAAAAAAAAAAAAAAAAAAAAAAAAAAAAAAAABpfuB27ESHPpKtKnnUspw+NP8WPL0qsD5NATeTxKzAPj612ZuHk88+5cMyNqSK2z7jmuhomjnmPhrzK/fnrPA+zbzJZJFj9z4J4MWto9D+PhNPxbA3JAM/6iUa5uN4Bj9vRjhwRvEIP8Exca2aKgo/NMQAKSj7CT8P38nF9pYIPwwvXnNtmgY/h/3rlFjpBD+x8iGo62gEP1PsUSTptQU/x2Aec3QACT8qE13o6CIOP6rd+T8gcRI/QNbnA8GTFj8T2yK3MYIbP8HVRSlOnyA/BVHF+KrQIz/bcigTQCUnP/Mkdfg0Wio/xrzmHQ0sLT8xIpAa+mQvP3j+aq1qcDA/J11OltPFMD+T2tu+5rEwPzDDCSZAQTA/FC7nDSkkLz8t6uqLDactPwW7JEPceyw/RSDVQ2YLLD8t0ZJdVZosP1wID4gcNi4/dYZ6b75aMD/ZsOigE+gxP6mr+CbeoTM/SmBHDVh4NT+NFyelIG43P7MEJh+CjDk/D31VLRPXOz+ipM+sBkw+P0Fq4YtQeUA/Lzu3DiL1QT/eiW14PLRDPx/Nr4cb0EU/EUJv/qZPSD91F+SFphxLP1cZBE5FCE4/SHFXyHVuUD83ZXh/H7lRPwU+wkhw21I/KvRFqxnWUz/Bl8gCJa5UP4jc45hca1U/ur3NDRAdVj/4IDS7+eFWP0DYEWzA7Fc/5CBG7cyAWT/aoTIzZuhbP/qD29lKaF8/DvAaHeYZYj9gLUGdfDBlP81ZCEii7Wg/7pnvsFwrbT/Za/BM8NJwP6ErjsRXAXM/Q7DRWBLxdD+gzt6umnp2P6TxjMvfhXc/7wSJS4UJeD/Qf3vvHwR4P3poFLL+dnc/NPfiMWdpdj+tCtPhgfN0P8H7MPHMR3M/8PqgJzWwcT/IWlV9hnpwP8yJMvEctG8/mMSSGBSYbz+fBLByMA5wP4HkHGbTMHA/cARcp2OCbz/U3gHw3fNsP1hDshnswWg/74YQRl+FYz9s5zydszlcP41UBlzppFI/hJpRI5x0Rj+ARqSqip84PxlbjCEzjyg/YsucQZ9EFj9MEvIb2FgCPw==\",\"dtype\":\"float64\",\"order\":\"little\",\"shape\":[200]}},\"selected\":{\"id\":\"90872\"},\"selection_policy\":{\"id\":\"90888\"}},\"id\":\"90871\",\"type\":\"ColumnDataSource\"},{\"attributes\":{},\"id\":\"90872\",\"type\":\"Selection\"},{\"attributes\":{\"data\":{\"x\":{\"__ndarray__\":\"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\",\"dtype\":\"float64\",\"order\":\"little\",\"shape\":[200]},\"y\":{\"__ndarray__\":\"AAAAAAAAAAAAAAAAAAAAAAAAAAAAAAAAAAAAAAAAAAAAAAAAAAAAAAAAAAAAAAAAAAAAAAAAAAAAAAAAAAAAAAAAAAAAAAAAAAAAAAAAAAAAAAAAAAAAAAAAAAAAAAAAAAAAAAAAAAAAAAAAAAAAAAAAAAAAAAAAAAAAAAAAAAAAAAAAAAAAAAAAAAAAAAAAAAAAAAAAAAAAAAAAAAAAAAAAAAAAAAAAAAAAAAAAAAAAAAAAAAAAAAAAAAAAAAAAAAAAAAAAAAAAAAAAAAAAAAAAAAAAAAAAAAAAAAAAAAAAAAAAAAAAAAAAAAAAAAAAAAAAAAAAAAAAAAAAAAAAAAAAAAAAAAAAAAAAAAAAAAAAAAAAAAAAAAAAAAAAAAAAAAAAAAAAAAAAAAAAAAAAAAAAAAAAAAAAAAAAAAAAAAAAAAAAAAAAAAAAAAAAAAAAAAAAAAAAAAAAAAAAAAAAAAAAAAAAAAAAAAAAAAAAAAAAAAAAAAAAAAAAAAAAAAAAAAAAAAAAAAAAAAAAAAAAAAAAAAAAAAAAAAAAAAAAAAAAAAAAAAAAAAAAAAAAAAAAAAAAAAAAAAAAAAAAAAAAAAAAAAAAAAAAAAAAAAAAAAAAAAAAAAAAAAAAAAAAAAAAAAAAAAAAAAAAAAAAAAAAAAAAAAAAAAAAAAAAAAAAAAAAAAAAAAAAAAAAAAAAAAAAAAAAAAAAAAAAAAAAAAAAAAAAAAAAAAAAAAAAAAAAAAAAAAAAAAAAAAAAAAAAAAAAAAAAAAAAAAAAAAAAAAAAAAAAAAAAAAAAAAAAAAAAAAAAAAAAAAAAAAAAAAAAAAAAAAAAAAAAAAAAAAAAAAAAAAAAAAAAAAAAAAAAAAAAAAAAAAAAAAAAAAAAAAAAAAAAAAAAAAAAAAAAAAAAAAAAAAAAAAAAAAAAAAAAAAAAAAAAAAAAAAAAAAAAAAAAAAAAAAAAAAAAAAAAAAAAAAAAAAAAAAAAAAAAAAAAAAAAAAAAAAAAAAAAAAAAAAAAAAAAAAAAAAAAAAAAAAAAAAAAAAAAAAAAAAAAAAAAAAAAAAC9TFyKNVh0Ps/ByKUT2qs+5vg21K0Tzz7yyhzX+0LcPk99pheZ8tQ+xHyfy+xPuT633wh/tyWKPjAsY1bsbos+YFuVlGKHvD58hLZHXlTZPvIPCS3bVOI+QUYYvVSh1T4fXxP/3KC1PpR5nasUZbI+z9GXEhdW4D4navyQo4/6PtLIQKAYnAE/ljn0ZAYI8z5ukEw7McXQPkFgdHJjR5w+9lbzKi6ksD7Ks60n4ibaPuA+otmvFfE+WwKu2S3f8j5b8QQMXtnnPtGedDSJeus+BgJybfne8T7He7ipg7bmPoHzUpwrqNE+ATd09xOv0T77nzLUicfcPnq/3DwMPOY+ym+dcIQe9T7VoA+ix5P3PmAsIljRI+c+CXphAa2i0D7VwxPMzvnXPkuOgC+lEug+JUhxGH6K8T4B4MlpFSfwPryp1DGjM+4+oElUIJdW8j527ptehELuPgw3V1U6Kes+6ds6nGZr9T7iFSwZPjL6Pr+g/XRy5vo+NU1K7OcQAD+517Tt5AD8PvNFupIvBes+al5DpJJ+3D50M/9ihRfpPtweVG8oTgI/R5GEHlFbFz+RTd0lpncgP2NQ/qesMhw/LUWZgIuxFz/AlCWo2lQcP4qr234UVyE/p4wWskF6Hj8P0Ka6nJkXP4eW1uj4PRo/TADh1KK9ID9oGQR5cNwjPzc/Zz/VDCw/RekE4tc1Mj/pGnEMhYUxPw9MIbBSgTA/zNb/vUMwND+hKDrbw4g3P/RRQillDTg/pNRv0kSXPD+qXN5URP1CP35SwGFxIkg/necRpnpuST9g+GSDVu5JP6ZNnspDw0w/wT4bSnJiSz9VwoQs50ZHPz5cyFNbY00/I7WZZHlEWD936lw1XydfPwEWoQJb6WA/Ju3wLyVZZD+2I38KG+FpP/N5evBp9G8/8xFRGWMHcj/AZf0OZjZzP79Lg7f4QnU/j5bXVL4hej9W+9w8tL1+P067VWIli38/il4hJd04fj8pmBrdaZp7P34NU2y9M3Q/njPnYB6FZD9d7LMzSFdQP1TYVdjLYjQ/xAQdZBj8DD/plLncNO7SPg==\",\"dtype\":\"float64\",\"order\":\"little\",\"shape\":[200]}},\"selected\":{\"id\":\"90835\"},\"selection_policy\":{\"id\":\"90847\"}},\"id\":\"90834\",\"type\":\"ColumnDataSource\"},{\"attributes\":{\"source\":{\"id\":\"90852\"}},\"id\":\"90859\",\"type\":\"CDSView\"},{\"attributes\":{\"fill_alpha\":0.5,\"fill_color\":\"#1f77b3\",\"line_alpha\":0.7,\"x\":{\"field\":\"x\"},\"y\":{\"field\":\"y\"}},\"id\":\"90838\",\"type\":\"Patch\"},{\"attributes\":{\"fill_alpha\":0.2,\"fill_color\":\"#2ba02b\",\"line_alpha\":0.2,\"x\":{\"field\":\"x\"},\"y\":{\"field\":\"y\"}},\"id\":\"90876\",\"type\":\"Patch\"},{\"attributes\":{\"fill_alpha\":0.5,\"fill_color\":\"#ff7e0e\",\"line_alpha\":0.7,\"x\":{\"field\":\"x\"},\"y\":{\"field\":\"y\"}},\"id\":\"90856\",\"type\":\"Patch\"},{\"attributes\":{\"overlay\":{\"id\":\"90822\"}},\"id\":\"90820\",\"type\":\"BoxZoomTool\"},{\"attributes\":{},\"id\":\"90853\",\"type\":\"Selection\"},{\"attributes\":{},\"id\":\"90810\",\"type\":\"BasicTicker\"},{\"attributes\":{},\"id\":\"90821\",\"type\":\"ResetTool\"},{\"attributes\":{},\"id\":\"90847\",\"type\":\"UnionRenderers\"},{\"attributes\":{\"fill_alpha\":0.5,\"fill_color\":\"#2ba02b\",\"line_alpha\":0.7,\"x\":{\"field\":\"x\"},\"y\":{\"field\":\"y\"}},\"id\":\"90875\",\"type\":\"Patch\"},{\"attributes\":{\"data_source\":{\"id\":\"90852\"},\"glyph\":{\"id\":\"90855\"},\"hover_glyph\":null,\"muted_glyph\":{\"id\":\"90857\"},\"nonselection_glyph\":{\"id\":\"90856\"},\"selection_glyph\":null,\"view\":{\"id\":\"90859\"}},\"id\":\"90858\",\"type\":\"GlyphRenderer\"},{\"attributes\":{\"axis_label\":\"unit_cost\",\"bounds\":\"auto\",\"formatter\":{\"id\":\"90830\"},\"major_label_orientation\":\"horizontal\",\"ticker\":{\"id\":\"90810\"}},\"id\":\"90809\",\"type\":\"LinearAxis\"},{\"attributes\":{},\"id\":\"90830\",\"type\":\"BasicTickFormatter\"},{\"attributes\":{\"label\":{\"value\":\"under predict\"},\"renderers\":[{\"id\":\"90877\"}]},\"id\":\"90891\",\"type\":\"LegendItem\"},{\"attributes\":{},\"id\":\"90805\",\"type\":\"LinearScale\"},{\"attributes\":{\"source\":{\"id\":\"90871\"}},\"id\":\"90878\",\"type\":\"CDSView\"},{\"attributes\":{\"end\":6225.188754332198,\"reset_end\":6225.188754332198,\"reset_start\":-164.61675433219872,\"start\":-164.61675433219872,\"tags\":[[[\"unit_cost\",\"unit_cost\",null]]]},\"id\":\"90795\",\"type\":\"Range1d\"},{\"attributes\":{\"margin\":[5,5,5,5],\"name\":\"HSpacer245369\",\"sizing_mode\":\"stretch_width\"},\"id\":\"90794\",\"type\":\"Spacer\"},{\"attributes\":{\"axis_label\":\"density\",\"bounds\":\"auto\",\"formatter\":{\"id\":\"90832\"},\"major_label_orientation\":\"horizontal\",\"ticker\":{\"id\":\"90814\"}},\"id\":\"90813\",\"type\":\"LinearAxis\"},{\"attributes\":{\"fill_alpha\":0.2,\"fill_color\":\"#ff7e0e\",\"line_alpha\":0.2,\"x\":{\"field\":\"x\"},\"y\":{\"field\":\"y\"}},\"id\":\"90857\",\"type\":\"Patch\"},{\"attributes\":{\"fill_alpha\":0.5,\"fill_color\":\"#2ba02b\",\"line_alpha\":0.7,\"x\":{\"field\":\"x\"},\"y\":{\"field\":\"y\"}},\"id\":\"90874\",\"type\":\"Patch\"},{\"attributes\":{\"callback\":null,\"renderers\":[{\"id\":\"90840\"},{\"id\":\"90858\"},{\"id\":\"90877\"}],\"tags\":[\"hv_created\"],\"tooltips\":[[\"forecast_flag\",\"@{forecast_flag}\"],[\"unit_cost\",\"@{unit_cost}\"],[\"Density\",\"@{unit_cost_density}\"]]},\"id\":\"90797\",\"type\":\"HoverTool\"},{\"attributes\":{},\"id\":\"90819\",\"type\":\"WheelZoomTool\"},{\"attributes\":{},\"id\":\"90867\",\"type\":\"UnionRenderers\"},{\"attributes\":{\"bottom_units\":\"screen\",\"fill_alpha\":0.5,\"fill_color\":\"lightgrey\",\"left_units\":\"screen\",\"level\":\"overlay\",\"line_alpha\":1.0,\"line_color\":\"black\",\"line_dash\":[4,4],\"line_width\":2,\"right_units\":\"screen\",\"top_units\":\"screen\"},\"id\":\"90822\",\"type\":\"BoxAnnotation\"},{\"attributes\":{\"end\":0.008471165308850732,\"reset_end\":0.008471165308850732,\"reset_start\":0.0,\"tags\":[[[\"unit_cost_density\",\"Density\",null]]]},\"id\":\"90796\",\"type\":\"Range1d\"},{\"attributes\":{\"label\":{\"value\":\"over predict\"},\"renderers\":[{\"id\":\"90858\"}]},\"id\":\"90870\",\"type\":\"LegendItem\"},{\"attributes\":{\"source\":{\"id\":\"90834\"}},\"id\":\"90841\",\"type\":\"CDSView\"},{\"attributes\":{\"margin\":[5,5,5,5],\"name\":\"HSpacer245370\",\"sizing_mode\":\"stretch_width\"},\"id\":\"91000\",\"type\":\"Spacer\"},{\"attributes\":{\"align\":null,\"below\":[{\"id\":\"90809\"}],\"center\":[{\"id\":\"90812\"},{\"id\":\"90816\"},{\"id\":\"90850\"}],\"left\":[{\"id\":\"90813\"}],\"margin\":null,\"min_border_bottom\":10,\"min_border_left\":10,\"min_border_right\":10,\"min_border_top\":10,\"plot_height\":400,\"plot_width\":800,\"renderers\":[{\"id\":\"90840\"},{\"id\":\"90858\"},{\"id\":\"90877\"}],\"sizing_mode\":\"fixed\",\"title\":{\"id\":\"90801\"},\"toolbar\":{\"id\":\"90823\"},\"x_range\":{\"id\":\"90795\"},\"x_scale\":{\"id\":\"90805\"},\"y_range\":{\"id\":\"90796\"},\"y_scale\":{\"id\":\"90807\"}},\"id\":\"90800\",\"subtype\":\"Figure\",\"type\":\"Plot\"}],\"root_ids\":[\"90793\"]},\"title\":\"Bokeh Application\",\"version\":\"2.2.3\"}};\n",
       "  var render_items = [{\"docid\":\"3c1bb2d2-fd03-47e1-bcf1-c27e36334979\",\"root_ids\":[\"90793\"],\"roots\":{\"90793\":\"301e9d9b-39e9-4c21-935a-5ecf0a257cc3\"}}];\n",
       "  root.Bokeh.embed.embed_items_notebook(docs_json, render_items);\n",
       "  }\n",
       "if (root.Bokeh !== undefined) {\n",
       "    embed_document(root);\n",
       "  } else {\n",
       "    var attempts = 0;\n",
       "    var timer = setInterval(function(root) {\n",
       "      if (root.Bokeh !== undefined) {\n",
       "        clearInterval(timer);\n",
       "        embed_document(root);\n",
       "      } else if (document.readyState == \"complete\") {\n",
       "        attempts++;\n",
       "        if (attempts > 100) {\n",
       "          clearInterval(timer);\n",
       "          console.log(\"Bokeh: ERROR: Unable to run BokehJS code because BokehJS library is missing\");\n",
       "        }\n",
       "      }\n",
       "    }, 10, root)\n",
       "  }\n",
       "})(window);</script>"
      ],
      "text/plain": [
       ":NdOverlay   [forecast_flag]\n",
       "   :Distribution   [unit_cost]   (Density)"
      ]
     },
     "execution_count": 36,
     "metadata": {
      "application/vnd.holoviews_exec.v0+json": {
       "id": "90793"
      }
     },
     "output_type": "execute_result"
    }
   ],
   "source": [
    "residual_analysis.hvplot.kde(y=\"unit_cost\",by=\"forecast_flag\", ## Grouping by Predictions\n",
    "                                width=800, height=400,\n",
    "                                alpha=0.7,\n",
    "                                ylabel=\"density\",\n",
    "                                xlabel=\"unit_cost\",\n",
    "                                title=f'unit cost(density)',legend='top_right')"
   ]
  },
  {
   "cell_type": "markdown",
   "metadata": {},
   "source": [
    "- From the above plot we can infer that the higher \"over predictions\" are happening for unit_cost > 200.\n",
    "- similarly, the higher \"under predictions\" are happening for unit_cost is zero.\n",
    "\n",
    "This can help us tune the model by a separate model for unit_cost > 200\n"
   ]
  },
  {
   "cell_type": "markdown",
   "metadata": {},
   "source": [
    "# 4.2 Modelling - XGBoost"
   ]
  },
  {
   "cell_type": "markdown",
   "metadata": {},
   "source": [
    "## 4.2.1 Model training pipeline\n",
    "\n",
    "Here we focus on creating a collection of pipelines that can be used for tranining respective models.\n",
    "\n",
    "Each model pipeline will essentially be of the form\n",
    "```\n",
    "[\n",
    "('preprocessing', preprocessing_pipeline),\n",
    "('feature_selection', feature_selection_pipeline),\n",
    "('estimator', estimator),\n",
    "]\n",
    "```"
   ]
  },
  {
   "cell_type": "markdown",
   "metadata": {},
   "source": [
    "### 4.2.2 Model Pipeline Build"
   ]
  },
  {
   "cell_type": "code",
   "execution_count": 37,
   "metadata": {},
   "outputs": [
    {
     "data": {
      "text/plain": [
       "Pipeline(steps=[('XGBoost',\n",
       "                 XGBRegressor(base_score=0.5, booster='gbtree',\n",
       "                              colsample_bylevel=1, colsample_bynode=1,\n",
       "                              colsample_bytree=1, gamma=0, gpu_id=-1,\n",
       "                              importance_type='gain',\n",
       "                              interaction_constraints='',\n",
       "                              learning_rate=0.300000012, max_delta_step=0,\n",
       "                              max_depth=6, min_child_weight=1, missing=nan,\n",
       "                              monotone_constraints='()', n_estimators=100,\n",
       "                              n_jobs=0, num_parallel_tree=1, random_state=0,\n",
       "                              reg_alpha=0, reg_lambda=1, scale_pos_weight=1,\n",
       "                              subsample=1, tree_method='exact',\n",
       "                              validate_parameters=1, verbosity=None))])"
      ]
     },
     "execution_count": 37,
     "metadata": {},
     "output_type": "execute_result"
    }
   ],
   "source": [
    "# let's find features for some decent defaults\n",
    "estimator = XGBRegressor()\n",
    "xgb_training_pipe_init = Pipeline([\n",
    "    ('XGBoost', XGBRegressor())\n",
    "])\n",
    "xgb_training_pipe_init.fit(train_X, train_y)"
   ]
  },
  {
   "cell_type": "markdown",
   "metadata": {},
   "source": [
    "### 4.2.3 Model Tuning"
   ]
  },
  {
   "cell_type": "code",
   "execution_count": 38,
   "metadata": {},
   "outputs": [
    {
     "data": {
      "text/plain": [
       "<AxesSubplot:>"
      ]
     },
     "execution_count": 38,
     "metadata": {},
     "output_type": "execute_result"
    },
    {
     "data": {
      "image/png": "[encoded data removed]",
      "text/plain": [
       "<Figure size 432x288 with 1 Axes>"
      ]
     },
     "metadata": {
      "needs_background": "light"
     },
     "output_type": "display_data"
    }
   ],
   "source": [
    "# Understanding the Feature Importance\n",
    "%matplotlib inline\n",
    "imp = pd.DataFrame({'importance': xgb_training_pipe_init['XGBoost'].feature_importances_})\n",
    "imp.index = train_X.columns\n",
    "imp.sort_values('importance',inplace=True)\n",
    "imp.plot(kind='barh')"
   ]
  },
  {
   "cell_type": "markdown",
   "metadata": {},
   "source": [
    "'condition','model_family','days_since_last_purchase','first_time_customer','sales_person', are considered to be important and in grid search"
   ]
  },
  {
   "cell_type": "markdown",
   "metadata": {},
   "source": [
    "##### Pipeline build based on new importance features"
   ]
  },
  {
   "cell_type": "code",
   "execution_count": 39,
   "metadata": {},
   "outputs": [],
   "source": [
    "# let's find features for some decent defaults\n",
    "imp_features = ['model_family','sku','unit_cost','condition','brand','business_unit']\n",
    "\n",
    "estimator = XGBRegressor()\n",
    "xgb_training_pipe2 = Pipeline([\n",
    "    ('', FunctionTransformer(_custom_data_transform, kw_args={'cols2keep':imp_features})),\n",
    "    ('XGBoost', XGBRegressor())\n",
    "])"
   ]
  },
  {
   "cell_type": "markdown",
   "metadata": {},
   "source": [
    "#### Grid Search of the Estimator"
   ]
  },
  {
   "cell_type": "code",
   "execution_count": 40,
   "metadata": {},
   "outputs": [
    {
     "name": "stdout",
     "output_type": "stream",
     "text": [
      "Fitting 2 folds for each of 1 candidates, totalling 2 fits\n"
     ]
    },
    {
     "name": "stderr",
     "output_type": "stream",
     "text": [
      "[Parallel(n_jobs=4)]: Using backend LokyBackend with 4 concurrent workers.\n",
      "[Parallel(n_jobs=4)]: Done   2 out of   2 | elapsed:   43.5s finished\n"
     ]
    },
    {
     "name": "stdout",
     "output_type": "stream",
     "text": [
      "0.9765111498521513\n",
      "{'gamma': 0.03, 'learning_rate': 0.1, 'max_depth': 3, 'min_child_weight': 6, 'n_estimators': 500}\n",
      "Wall time: 1min 18s\n"
     ]
    }
   ],
   "source": [
    "%%time\n",
    "parameters = {\n",
    "   'gamma':[0.03],\n",
    "   'min_child_weight':[6],\n",
    "   'learning_rate':[0.1],\n",
    "   'max_depth':[3],\n",
    "   'n_estimators':[500], \n",
    "}\n",
    "est = XGBRegressor()\n",
    "xgb_grid = GridSearchCV(est,\n",
    "                        parameters,\n",
    "                        cv = 2,\n",
    "                        n_jobs = 4,\n",
    "                        verbose=True)\n",
    "\n",
    "xgb_grid.fit(train_X, train_y)\n",
    "\n",
    "print(xgb_grid.best_score_)\n",
    "print(xgb_grid.best_params_)"
   ]
  },
  {
   "cell_type": "markdown",
   "metadata": {},
   "source": [
    "#### Pipeline Build using the best estimator"
   ]
  },
  {
   "cell_type": "code",
   "execution_count": 41,
   "metadata": {},
   "outputs": [
    {
     "data": {
      "text/plain": [
       "Pipeline(steps=[('',\n",
       "                 FunctionTransformer(func=<function _custom_data_transform at 0x0000021C994BB310>,\n",
       "                                     kw_args={'cols2keep': ['model_family',\n",
       "                                                            'sku', 'unit_cost',\n",
       "                                                            'condition',\n",
       "                                                            'brand',\n",
       "                                                            'business_unit']})),\n",
       "                ('XGBoost',\n",
       "                 XGBRegressor(base_score=0.5, booster='gbtree',\n",
       "                              colsample_bylevel=1, colsample_bynode=1,\n",
       "                              colsample_bytree=1, gamma=0.03, gpu_id=-1,\n",
       "                              importance_type='gain',\n",
       "                              interaction_constraints='', learning_rate=0.1,\n",
       "                              max_delta_step=0, max_depth=3, min_child_weight=6,\n",
       "                              missing=nan, monotone_constraints='()',\n",
       "                              n_estimators=500, n_jobs=0, num_parallel_tree=1,\n",
       "                              random_state=0, reg_alpha=0, reg_lambda=1,\n",
       "                              scale_pos_weight=1, subsample=1,\n",
       "                              tree_method='exact', validate_parameters=1,\n",
       "                              verbosity=None))])"
      ]
     },
     "execution_count": 41,
     "metadata": {},
     "output_type": "execute_result"
    }
   ],
   "source": [
    "xgb_pipeline_final = Pipeline([\n",
    "    ('', FunctionTransformer(_custom_data_transform, kw_args={'cols2keep':imp_features})),\n",
    "    ('XGBoost', xgb_grid.best_estimator_)\n",
    "])\n",
    "xgb_pipeline_final.fit(train_X, train_y)"
   ]
  },
  {
   "cell_type": "code",
   "execution_count": 42,
   "metadata": {},
   "outputs": [
    {
     "name": "stderr",
     "output_type": "stream",
     "text": [
      "Passing normed=False is deprecated, and has no effect. Consider passing the density argument instead.\n",
      "divide by zero encountered in true_divide\n",
      "2022-05-23 20:30:43 - WARNING - tigerml.model_eval.plotters.interpretation::get_errorbucket_profiles::847 - Residual Analysis: Ignoring 17 observations in train data for error analysis where y=0\n",
      "2022-05-23 20:30:43 - WARNING - tigerml.model_eval.plotters.interpretation::get_errorbucket_profiles::864 - Residual Analysis: Ignoring 7 observations in test data for error analysis where y=0\n"
     ]
    }
   ],
   "source": [
    "reg_tree_report = RegressionReport(model=xgb_pipeline_final, x_train=train_X, y_train=train_y, x_test= test_X, y_test= test_y)\n",
    "reg_tree_report.get_report(include_shap=False, file_path='regression_tree_model_report')"
   ]
  },
  {
   "cell_type": "markdown",
   "metadata": {},
   "source": [
    "The Regression report containing the feature importances are available [here](https://drive.google.com/file/d/1-VvhnH-TELL_SYQP1SA91KeGbSI48bCl/view?usp=sharing)"
   ]
  },
  {
   "cell_type": "markdown",
   "metadata": {},
   "source": [
    "# 5 Model Comparison"
   ]
  },
  {
   "cell_type": "markdown",
   "metadata": {},
   "source": [
    "Now, a comparison report of the  linear (vs) tree -based model  approach can be generated as follows.\n",
    "\n",
    "This code will not be part of the production code."
   ]
  },
  {
   "cell_type": "code",
   "execution_count": 43,
   "metadata": {},
   "outputs": [
    {
     "name": "stderr",
     "output_type": "stream",
     "text": [
      "`rcond` parameter will change to the default of machine precision times ``max(M, N)`` where M and N are the input matrix dimensions.\n",
      "To use the future default and silence this warning we advise to pass `rcond=None`, to keep using the old, explicitly pass `rcond=-1`.\n",
      "Passing normed=False is deprecated, and has no effect. Consider passing the density argument instead.\n"
     ]
    }
   ],
   "source": [
    "model_pipelines = [reg_ppln, xgb_pipeline_final]\n",
    "model_comparison_report = RegressionComparison(models=model_pipelines,x=train_X, y=train_y)\n",
    "metrics = model_comparison_report.get_report(file_path='regression_comparison')"
   ]
  },
  {
   "cell_type": "code",
   "execution_count": 44,
   "metadata": {},
   "outputs": [
    {
     "data": {
      "text/html": [
       "<div>\n",
       "<style scoped>\n",
       "    .dataframe tbody tr th:only-of-type {\n",
       "        vertical-align: middle;\n",
       "    }\n",
       "\n",
       "    .dataframe tbody tr th {\n",
       "        vertical-align: top;\n",
       "    }\n",
       "\n",
       "    .dataframe thead th {\n",
       "        text-align: right;\n",
       "    }\n",
       "</style>\n",
       "<table border=\"1\" class=\"dataframe\">\n",
       "  <thead>\n",
       "    <tr style=\"text-align: right;\">\n",
       "      <th>metric</th>\n",
       "      <th>MAPE</th>\n",
       "      <th>WMAPE</th>\n",
       "      <th>MAE</th>\n",
       "      <th>RMSE</th>\n",
       "      <th>R^2</th>\n",
       "    </tr>\n",
       "  </thead>\n",
       "  <tbody>\n",
       "    <tr>\n",
       "      <th>, Linear Regression</th>\n",
       "      <td>0.2988</td>\n",
       "      <td>0.1794</td>\n",
       "      <td>24.2614</td>\n",
       "      <td>38.0214</td>\n",
       "      <td>0.8858</td>\n",
       "    </tr>\n",
       "    <tr>\n",
       "      <th>, XGBoost</th>\n",
       "      <td>0.1090</td>\n",
       "      <td>0.0779</td>\n",
       "      <td>10.5389</td>\n",
       "      <td>17.0519</td>\n",
       "      <td>0.9770</td>\n",
       "    </tr>\n",
       "  </tbody>\n",
       "</table>\n",
       "</div>"
      ],
      "text/plain": [
       "metric                 MAPE   WMAPE      MAE     RMSE     R^2\n",
       ", Linear Regression  0.2988  0.1794  24.2614  38.0214  0.8858\n",
       ", XGBoost            0.1090  0.0779  10.5389  17.0519  0.9770"
      ]
     },
     "execution_count": 44,
     "metadata": {},
     "output_type": "execute_result"
    }
   ],
   "source": [
    "model_comparison_report.performance_metrics"
   ]
  },
  {
   "cell_type": "markdown",
   "metadata": {},
   "source": [
    "A report comparing the performance, metrics between Linear model and Tree model are available [here](https://drive.google.com/file/d/1t2VtBffSH5gfhxyaXZrfNufuRgMFZhc9/view?usp=sharing)"
   ]
  },
  {
   "cell_type": "markdown",
   "metadata": {},
   "source": [
    "**Dev NOTES**\n",
    "<details>\n",
    "\n",
    "the above metrics are absolute nos and not %ges"
   ]
  },
  {
   "cell_type": "markdown",
   "metadata": {},
   "source": [
    "In this example we are choosing LM model for pipelining. General criteria for choosing production models is:\n",
    "\n",
    "- Parametric models (aka whitebox models) such as Linear Regression are easier to explain to non-technical audience.\n",
    "- Generally these are accepted fast and adoption is quicker.\n",
    "- If the downstream calls for optimization using these models parametric models are easier to implement.\n",
    "- When accuracy is primary goal without explainability, the above two takes a backseat"
   ]
  }
 ],
 "metadata": {
  "kernelspec": {
   "display_name": "Python 3",
   "language": "python",
   "name": "python3"
  },
  "language_info": {
   "codemirror_mode": {
    "name": "ipython",
    "version": 3
   },
   "file_extension": ".py",
   "mimetype": "text/x-python",
   "name": "python",
   "nbconvert_exporter": "python",
   "pygments_lexer": "ipython3",
   "version": "3.8.11"
  }
 },
 "nbformat": 4,
 "nbformat_minor": 4
}
